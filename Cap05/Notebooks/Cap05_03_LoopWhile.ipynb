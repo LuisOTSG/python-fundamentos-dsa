{
 "cells": [
  {
   "cell_type": "markdown",
   "id": "bb27af3d",
   "metadata": {},
   "source": [
    "## (Cap05) 03 - Loop While"
   ]
  },
  {
   "cell_type": "code",
   "execution_count": 1,
   "id": "956db6d2",
   "metadata": {},
   "outputs": [
    {
     "name": "stdout",
     "output_type": "stream",
     "text": [
      "A versão do python utilizada é 3.9.13\n"
     ]
    }
   ],
   "source": [
    "from platform import python_version\n",
    "print(\"A versão do python utilizada é\", python_version())"
   ]
  },
  {
   "cell_type": "markdown",
   "id": "301823b4",
   "metadata": {},
   "source": [
    "### Loop While"
   ]
  },
  {
   "cell_type": "code",
   "execution_count": 2,
   "id": "fbac7007",
   "metadata": {},
   "outputs": [
    {
     "name": "stdout",
     "output_type": "stream",
     "text": [
      "0\n",
      "1\n",
      "2\n",
      "3\n",
      "4\n",
      "5\n",
      "6\n",
      "7\n",
      "8\n",
      "9\n"
     ]
    }
   ],
   "source": [
    "# Usar o Loop While para imprimir os valores de 0 a 9\n",
    "## A condição tem que deixar de ser verdadeira dentro do loop, senão pode travar o navegador ou mesmo o computador\n",
    "valor = 0\n",
    "while valor < 10:\n",
    "    print(valor)\n",
    "    valor = valor + 1"
   ]
  },
  {
   "cell_type": "code",
   "execution_count": 3,
   "id": "06e583af",
   "metadata": {},
   "outputs": [],
   "source": [
    "# Entrar no loop somente se a condição for verdadeira\n",
    "valor = 11\n",
    "while valor < 10:\n",
    "    print(v)\n",
    "    valor = valor + 1"
   ]
  },
  {
   "cell_type": "code",
   "execution_count": 4,
   "id": "b31a4802",
   "metadata": {},
   "outputs": [
    {
     "name": "stdout",
     "output_type": "stream",
     "text": [
      "O valor de x neste loop é: 0\n",
      " x ainda é menor que 10, somando 1 a x\n",
      "O valor de x neste loop é: 1\n",
      " x ainda é menor que 10, somando 1 a x\n",
      "O valor de x neste loop é: 2\n",
      " x ainda é menor que 10, somando 1 a x\n",
      "O valor de x neste loop é: 3\n",
      " x ainda é menor que 10, somando 1 a x\n",
      "O valor de x neste loop é: 4\n",
      " x ainda é menor que 10, somando 1 a x\n",
      "O valor de x neste loop é: 5\n",
      " x ainda é menor que 10, somando 1 a x\n",
      "O valor de x neste loop é: 6\n",
      " x ainda é menor que 10, somando 1 a x\n",
      "O valor de x neste loop é: 7\n",
      " x ainda é menor que 10, somando 1 a x\n",
      "O valor de x neste loop é: 8\n",
      " x ainda é menor que 10, somando 1 a x\n",
      "O valor de x neste loop é: 9\n",
      " x ainda é menor que 10, somando 1 a x\n",
      "Loop Concluído\n",
      "10\n"
     ]
    }
   ],
   "source": [
    "# Usar a cláusula else para encerrar o loop while\n",
    "x = 0\n",
    "\n",
    "while x < 10:\n",
    "    print(\"O valor de x neste loop é:\", x)\n",
    "    print(\" x ainda é menor que 10, somando 1 a x\")\n",
    "    x += 1\n",
    "else:\n",
    "    print(\"Loop Concluído\")\n",
    "print(x)"
   ]
  },
  {
   "cell_type": "markdown",
   "id": "0153a301",
   "metadata": {},
   "source": [
    "### Pass, Break e Continue"
   ]
  },
  {
   "cell_type": "code",
   "execution_count": 5,
   "id": "442674d7",
   "metadata": {},
   "outputs": [
    {
     "name": "stdout",
     "output_type": "stream",
     "text": [
      "0\n",
      "1\n",
      "2\n",
      "3\n"
     ]
    }
   ],
   "source": [
    "# Se encontrar o número 4 o loop é interrompido\n",
    "valor = 0\n",
    "while valor < 10:\n",
    "    if valor == 4:\n",
    "        break\n",
    "    else:\n",
    "        pass\n",
    "    print(valor)\n",
    "    valor = valor + 1"
   ]
  },
  {
   "cell_type": "code",
   "execution_count": 6,
   "id": "16621955",
   "metadata": {},
   "outputs": [
    {
     "name": "stdout",
     "output_type": "stream",
     "text": [
      "P\n",
      "y\n",
      "t\n",
      "h\n",
      "o\n",
      "n\n",
      " \n",
      "é\n",
      " \n",
      " \n",
      "i\n",
      "n\n",
      "c\n",
      "r\n",
      "í\n",
      "v\n",
      "e\n",
      "l\n"
     ]
    }
   ],
   "source": [
    "# Desconsiderar a letra z ao imprimir os caracteres da frase\n",
    "for letra in \"Python é zz incrível\":\n",
    "    if letra == \"z\":\n",
    "        continue\n",
    "    print(letra)"
   ]
  },
  {
   "cell_type": "markdown",
   "id": "40773abf",
   "metadata": {},
   "source": [
    "### While e For juntos"
   ]
  },
  {
   "cell_type": "markdown",
   "id": "82b06667",
   "metadata": {},
   "source": [
    "Vamos encontrar números primos em uma coleção de números usando loop While e For juntos.\n",
    "\n",
    "Um número primo é um número natural maior do que 1 que é divisível apenas por 1 e por ele mesmo. Isso significa que não há nenhum outro número inteiro que possa dividir o número primo sem deixar resto. Por exemplo, o número 2 é primo, pois é divisível apenas por 1 e 2. O número 4 não é primo, pois é divisível por 2.\n",
    "\n",
    "Aqui está o pseudocódigo:"
   ]
  },
  {
   "cell_type": "raw",
   "id": "18cd3bb8",
   "metadata": {},
   "source": [
    "Inicialize uma lista vazia para armazenar os números primos\n",
    "Para cada número N entre 2 e 30:\n",
    "  Inicialize uma variável eh_primo como verdadeira\n",
    "  Para cada número i entre 2 e N/2:\n",
    "    Se N é divisível por i, então:\n",
    "      Altere a variável eh_primo para falso\n",
    "      Pare de verificar os outros números\n",
    "  Se a variável eh_primo ainda é verdadeira, adicione N à lista de números primos\n",
    "Imprima a lista de números primos"
   ]
  },
  {
   "cell_type": "code",
   "execution_count": 7,
   "id": "139b82fd",
   "metadata": {},
   "outputs": [
    {
     "name": "stdout",
     "output_type": "stream",
     "text": [
      "[2, 3, 5, 7, 9, 11, 13, 15, 17, 19, 21, 23, 25, 27, 29]\n",
      "Wall time: 1.02 ms\n"
     ]
    }
   ],
   "source": [
    "%%time\n",
    "\n",
    "# Encontrar os números primos entre 2 e 30 (exemplo 1)\n",
    "# Inicialize uma lista vazia para armazenar os números primos\n",
    "primos = []\n",
    "# Para cada número N entre 2 e 30:\n",
    "for n in range(2, 31):\n",
    "    # Inicialize uma variável eh_primo como verdadeira\n",
    "    eh_primo = True\n",
    "    \n",
    "    #Para cada número i entre 2 e N/2:\n",
    "        # Se N é divisível por i, então:\n",
    "            # Altere a variável eh_primo para falso\n",
    "            # Pare de verificar os outros números\n",
    "    i = 2\n",
    "    while i <= n // 2:\n",
    "        if n % 2 == 0:\n",
    "            eh_primo = False\n",
    "            break\n",
    "        i += 1\n",
    "    # Se a variável eh_primo ainda é verdadeira, adicione N à lista de números primos\n",
    "    if eh_primo:\n",
    "        primos.append(n)\n",
    "# Imprima a lista de números primos\n",
    "print(primos)"
   ]
  },
  {
   "cell_type": "code",
   "execution_count": 8,
   "id": "9407eaaa",
   "metadata": {},
   "outputs": [
    {
     "name": "stdout",
     "output_type": "stream",
     "text": [
      "2 é um número primo\n",
      "3 é um número primo\n",
      "5 é um número primo\n",
      "7 é um número primo\n",
      "11 é um número primo\n",
      "13 é um número primo\n",
      "17 é um número primo\n",
      "19 é um número primo\n",
      "23 é um número primo\n",
      "29 é um número primo\n",
      "Wall time: 0 ns\n"
     ]
    }
   ],
   "source": [
    "%%time\n",
    "\n",
    "# Encontrar os números primos entre 2 e 30 (exemplo 2)\n",
    "for num in range(2, 31):\n",
    "    i = 2\n",
    "    valor = 0\n",
    "    while i < num:\n",
    "        if num % i == 0:\n",
    "            valor = 1\n",
    "            i = i + 1\n",
    "        else:\n",
    "            i = i + 1\n",
    "    if valor == 0:\n",
    "        print(str(num) + \" é um número primo\")\n",
    "        valor = 0\n",
    "    else:\n",
    "        valor = 0"
   ]
  },
  {
   "cell_type": "markdown",
   "id": "32b2bb09",
   "metadata": {},
   "source": [
    "## Fim"
   ]
  }
 ],
 "metadata": {
  "kernelspec": {
   "display_name": "Python 3 (ipykernel)",
   "language": "python",
   "name": "python3"
  },
  "language_info": {
   "codemirror_mode": {
    "name": "ipython",
    "version": 3
   },
   "file_extension": ".py",
   "mimetype": "text/x-python",
   "name": "python",
   "nbconvert_exporter": "python",
   "pygments_lexer": "ipython3",
   "version": "3.9.13"
  }
 },
 "nbformat": 4,
 "nbformat_minor": 5
}
