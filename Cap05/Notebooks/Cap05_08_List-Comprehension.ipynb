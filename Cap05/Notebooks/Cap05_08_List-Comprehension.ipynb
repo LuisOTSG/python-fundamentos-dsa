{
 "cells": [
  {
   "cell_type": "markdown",
   "id": "4682f41f",
   "metadata": {},
   "source": [
    "## (Cap05) 08 - List Comprehension"
   ]
  },
  {
   "cell_type": "code",
   "execution_count": 1,
   "id": "c901ec99",
   "metadata": {},
   "outputs": [
    {
     "name": "stdout",
     "output_type": "stream",
     "text": [
      "A versão do python utilizada é 3.9.13\n"
     ]
    }
   ],
   "source": [
    "from platform import python_version\n",
    "print(\"A versão do python utilizada é\", python_version())"
   ]
  },
  {
   "cell_type": "markdown",
   "id": "c0c7efaf",
   "metadata": {},
   "source": [
    "### List Comprehension\n",
    "[expression for item in iterable if condicao == True]"
   ]
  },
  {
   "cell_type": "code",
   "execution_count": 2,
   "id": "3ccfd788",
   "metadata": {},
   "outputs": [
    {
     "data": {
      "text/plain": [
       "[0, 1, 2, 3, 4, 5, 6, 7, 8, 9]"
      ]
     },
     "execution_count": 2,
     "metadata": {},
     "output_type": "execute_result"
    }
   ],
   "source": [
    "# List Comprehension que imprime os números até 10\n",
    "[x for x in range(10)]"
   ]
  },
  {
   "cell_type": "code",
   "execution_count": 3,
   "id": "81b6bb28",
   "metadata": {},
   "outputs": [],
   "source": [
    "# List Comprehension que imprime os números até 10 e grava uma lista\n",
    "lista_numeros = [x for x in range(10)]"
   ]
  },
  {
   "cell_type": "code",
   "execution_count": 4,
   "id": "6582b151",
   "metadata": {},
   "outputs": [
    {
     "name": "stdout",
     "output_type": "stream",
     "text": [
      "[0, 1, 2, 3, 4, 5, 6, 7, 8, 9]\n"
     ]
    },
    {
     "data": {
      "text/plain": [
       "list"
      ]
     },
     "execution_count": 4,
     "metadata": {},
     "output_type": "execute_result"
    }
   ],
   "source": [
    "print(lista_numeros)\n",
    "type(lista_numeros)"
   ]
  },
  {
   "cell_type": "code",
   "execution_count": 5,
   "id": "be6e1b4e",
   "metadata": {},
   "outputs": [
    {
     "name": "stdout",
     "output_type": "stream",
     "text": [
      "[0, 1, 2, 3, 4]\n"
     ]
    }
   ],
   "source": [
    "# List Comprehension que imprime os números menores que 5 em um intervalo de 1 a 10\n",
    "lista_numeros = [x for x in range(10) if x < 5]\n",
    "print(lista_numeros)"
   ]
  },
  {
   "cell_type": "code",
   "execution_count": 6,
   "id": "2e303188",
   "metadata": {},
   "outputs": [],
   "source": [
    "# Lista de frutas\n",
    "lista_frutas = [\"pera\", \"banana\", \"maçã\", \"mamão\", \"amora\"]\n",
    "\n",
    "nova_frutas = []"
   ]
  },
  {
   "cell_type": "code",
   "execution_count": 7,
   "id": "29ac866d",
   "metadata": {},
   "outputs": [
    {
     "name": "stdout",
     "output_type": "stream",
     "text": [
      "['maçã', 'mamão', 'amora']\n"
     ]
    }
   ],
   "source": [
    "# Loop tradicional para buscar as palavras com 'm'\n",
    "for x in lista_frutas:\n",
    "    if 'm' in x:\n",
    "        nova_frutas.append(x)\n",
    "        \n",
    "print(nova_frutas)"
   ]
  },
  {
   "cell_type": "code",
   "execution_count": 8,
   "id": "26bf88c8",
   "metadata": {},
   "outputs": [
    {
     "name": "stdout",
     "output_type": "stream",
     "text": [
      "['maçã', 'mamão', 'amora']\n"
     ]
    }
   ],
   "source": [
    "# List Comprehension para buscar as palavras com 'm'\n",
    "nova_frutas = [x for x in lista_frutas if 'm' in x]\n",
    "print(nova_frutas)"
   ]
  },
  {
   "cell_type": "markdown",
   "id": "81f631e6",
   "metadata": {},
   "source": [
    "### Dict Comprehension"
   ]
  },
  {
   "cell_type": "code",
   "execution_count": 9,
   "id": "34497ab5",
   "metadata": {},
   "outputs": [
    {
     "name": "stdout",
     "output_type": "stream",
     "text": [
      "{'Luis': 70, 'Flávia': 75, 'Pedro': 90}\n"
     ]
    }
   ],
   "source": [
    "# Dicionário de alunos e notas (Chave e valor)\n",
    "dict_alunos = {'Luis': 70, 'Flávia': 75, 'Pedro': 90}\n",
    "\n",
    "# Criar um novo dicionário imprimindo os pares chave e valor\n",
    "dict_alunos_status = {k:v for (k, v) in dict_alunos.items()}\n",
    "print(dict_alunos_status)"
   ]
  },
  {
   "cell_type": "code",
   "execution_count": 10,
   "id": "39490754",
   "metadata": {},
   "outputs": [
    {
     "name": "stdout",
     "output_type": "stream",
     "text": [
      "{'Flávia': 75, 'Pedro': 90}\n"
     ]
    }
   ],
   "source": [
    "# Dicionário de alunos e notas (Chave e valor)\n",
    "dict_alunos = {'Luis': 65, 'Flávia': 75, 'Pedro': 90}\n",
    "\n",
    "# Criar um novo dicionário imprimindo os pares chave e valor com média maior que 70\n",
    "dict_alunos_media_maior = {k:v for (k, v) in dict_alunos.items() if v >= 70}\n",
    "print(dict_alunos_media_maior)"
   ]
  },
  {
   "cell_type": "code",
   "execution_count": 11,
   "id": "b4f3efa5",
   "metadata": {},
   "outputs": [
    {
     "name": "stdout",
     "output_type": "stream",
     "text": [
      "{'Luis': 'Reprovado', 'Flávia': 'Reprovado', 'Pedro': 'Aprovado'}\n"
     ]
    }
   ],
   "source": [
    "# Dicionário de alunos e notas (Chave e valor)\n",
    "dict_alunos = {'Luis': 65, 'Flávia': 69, 'Pedro': 90}\n",
    "\n",
    "# Criar um novo dicionário com o status: nota maior que 70 é aprovado, se não é reprovado\n",
    "dict_alunos_aprovado = {k: ('Aprovado' if v > 70 else 'Reprovado') for (k, v) in dict_alunos.items()}\n",
    "print(dict_alunos_aprovado)"
   ]
  },
  {
   "cell_type": "markdown",
   "id": "564d98bc",
   "metadata": {},
   "source": [
    "### Fim"
   ]
  }
 ],
 "metadata": {
  "kernelspec": {
   "display_name": "Python 3 (ipykernel)",
   "language": "python",
   "name": "python3"
  },
  "language_info": {
   "codemirror_mode": {
    "name": "ipython",
    "version": 3
   },
   "file_extension": ".py",
   "mimetype": "text/x-python",
   "name": "python",
   "nbconvert_exporter": "python",
   "pygments_lexer": "ipython3",
   "version": "3.9.13"
  }
 },
 "nbformat": 4,
 "nbformat_minor": 5
}
