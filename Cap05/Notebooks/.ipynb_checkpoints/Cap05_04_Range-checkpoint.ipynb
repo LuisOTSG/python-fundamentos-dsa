{
 "cells": [
  {
   "cell_type": "markdown",
   "id": "ecacf911",
   "metadata": {},
   "source": [
    "## (Cap05) 04 - Range"
   ]
  },
  {
   "cell_type": "code",
   "execution_count": 1,
   "id": "d3cb911b",
   "metadata": {},
   "outputs": [
    {
     "name": "stdout",
     "output_type": "stream",
     "text": [
      "A versão do python utilizada é 3.9.13\n"
     ]
    }
   ],
   "source": [
    "from platform import python_version\n",
    "print(\"A versão do python utilizada é\", python_version())"
   ]
  },
  {
   "cell_type": "markdown",
   "id": "38826f3f",
   "metadata": {},
   "source": [
    "### Função Range"
   ]
  },
  {
   "cell_type": "code",
   "execution_count": 2,
   "id": "e82582d2",
   "metadata": {},
   "outputs": [
    {
     "name": "stdout",
     "output_type": "stream",
     "text": [
      "0\n",
      "1\n",
      "2\n",
      "3\n",
      "4\n",
      "5\n",
      "6\n",
      "7\n",
      "8\n",
      "9\n",
      "10\n"
     ]
    }
   ],
   "source": [
    "# Imprimir números de 1 a 10\n",
    "for i in range(0, 11):\n",
    "    print(i)"
   ]
  },
  {
   "cell_type": "code",
   "execution_count": 3,
   "id": "76d15856",
   "metadata": {},
   "outputs": [
    {
     "name": "stdout",
     "output_type": "stream",
     "text": [
      "50\n",
      "52\n",
      "54\n",
      "56\n",
      "58\n",
      "60\n",
      "62\n",
      "64\n",
      "66\n",
      "68\n",
      "70\n",
      "72\n",
      "74\n",
      "76\n",
      "78\n",
      "80\n",
      "82\n",
      "84\n",
      "86\n",
      "88\n",
      "90\n",
      "92\n",
      "94\n",
      "96\n",
      "98\n",
      "100\n"
     ]
    }
   ],
   "source": [
    "# Imprimir os números pares entre 50 e 101\n",
    "for i in range(50, 101, 2):\n",
    "    print(i)"
   ]
  },
  {
   "cell_type": "code",
   "execution_count": 4,
   "id": "e6a5ad07",
   "metadata": {},
   "outputs": [
    {
     "name": "stdout",
     "output_type": "stream",
     "text": [
      "0\n",
      "-2\n",
      "-4\n",
      "-6\n",
      "-8\n",
      "-10\n",
      "-12\n",
      "-14\n",
      "-16\n",
      "-18\n"
     ]
    }
   ],
   "source": [
    "# Imprimir os números pares negativos entre 0 e - 20\n",
    "for i in range(0, -20, -2):\n",
    "    print(i)"
   ]
  },
  {
   "cell_type": "code",
   "execution_count": 5,
   "id": "9070ff4b",
   "metadata": {},
   "outputs": [
    {
     "name": "stdout",
     "output_type": "stream",
     "text": [
      "Maça\n",
      "Morango\n",
      "Pêra\n",
      "Laranja\n"
     ]
    }
   ],
   "source": [
    "# Usar o tamanho de uma lista na função range()\n",
    "lista = ['Maça', 'Morango', 'Pêra', 'Laranja']\n",
    "lista_tamanho = len(lista)\n",
    "for i in range(0, lista_tamanho):\n",
    "    print(lista[i])"
   ]
  },
  {
   "cell_type": "markdown",
   "id": "be112f6c",
   "metadata": {},
   "source": [
    "## Fim"
   ]
  }
 ],
 "metadata": {
  "kernelspec": {
   "display_name": "Python 3 (ipykernel)",
   "language": "python",
   "name": "python3"
  },
  "language_info": {
   "codemirror_mode": {
    "name": "ipython",
    "version": 3
   },
   "file_extension": ".py",
   "mimetype": "text/x-python",
   "name": "python",
   "nbconvert_exporter": "python",
   "pygments_lexer": "ipython3",
   "version": "3.9.13"
  }
 },
 "nbformat": 4,
 "nbformat_minor": 5
}
