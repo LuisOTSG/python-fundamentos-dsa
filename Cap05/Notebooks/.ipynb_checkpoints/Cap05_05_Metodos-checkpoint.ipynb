{
 "cells": [
  {
   "cell_type": "markdown",
   "id": "90835eb3",
   "metadata": {},
   "source": [
    "## (Cap05) 05 - Métodos"
   ]
  },
  {
   "cell_type": "code",
   "execution_count": 1,
   "id": "5b35f925",
   "metadata": {},
   "outputs": [
    {
     "name": "stdout",
     "output_type": "stream",
     "text": [
      "A versão do python utilizada é 3.9.13\n"
     ]
    }
   ],
   "source": [
    "from platform import python_version\n",
    "print(\"A versão do python utilizada é\", python_version())"
   ]
  },
  {
   "cell_type": "markdown",
   "id": "4b22e787",
   "metadata": {},
   "source": [
    "### Métodos\n",
    "\n",
    "Tudo em Python é objeto. E cada objeto tem métodos e atributos.\n",
    "\n",
    "- Atributos são propriedades, características do objeto.\n",
    "- Métodos são funções com ações que podem ser executadas nos objetos."
   ]
  },
  {
   "cell_type": "code",
   "execution_count": 2,
   "id": "d9387b20",
   "metadata": {},
   "outputs": [],
   "source": [
    "# Criar uma lista\n",
    "lista = [101, -3, 12, 86, 0]"
   ]
  },
  {
   "cell_type": "code",
   "execution_count": 3,
   "id": "8a05eb81",
   "metadata": {},
   "outputs": [
    {
     "data": {
      "text/plain": [
       "list"
      ]
     },
     "execution_count": 3,
     "metadata": {},
     "output_type": "execute_result"
    }
   ],
   "source": [
    "type(lista)"
   ]
  },
  {
   "cell_type": "code",
   "execution_count": 4,
   "id": "507a036a",
   "metadata": {},
   "outputs": [
    {
     "data": {
      "text/plain": [
       "[101, -3, 12, 86, 0]"
      ]
     },
     "execution_count": 4,
     "metadata": {},
     "output_type": "execute_result"
    }
   ],
   "source": [
    "# Verificar métodos e atributos\n",
    "lista"
   ]
  },
  {
   "cell_type": "code",
   "execution_count": 5,
   "id": "bb7b480b",
   "metadata": {},
   "outputs": [],
   "source": [
    "# Usar um método do objeto lista .append()\n",
    "lista.append(100)"
   ]
  },
  {
   "cell_type": "code",
   "execution_count": 8,
   "id": "777764aa",
   "metadata": {},
   "outputs": [
    {
     "name": "stdout",
     "output_type": "stream",
     "text": [
      "[101, -3, 12, 86, 0, 100]\n"
     ]
    }
   ],
   "source": [
    "# Imprimir a lista\n",
    "print(lista)"
   ]
  },
  {
   "cell_type": "code",
   "execution_count": 9,
   "id": "62d085d3",
   "metadata": {},
   "outputs": [
    {
     "data": {
      "text/plain": [
       "1"
      ]
     },
     "execution_count": 9,
     "metadata": {},
     "output_type": "execute_result"
    }
   ],
   "source": [
    "# Usar um método do objeto lista .count()\n",
    "lista.count(100)"
   ]
  },
  {
   "cell_type": "code",
   "execution_count": 11,
   "id": "82282280",
   "metadata": {},
   "outputs": [
    {
     "name": "stdout",
     "output_type": "stream",
     "text": [
      "Help on built-in function count:\n",
      "\n",
      "count(value, /) method of builtins.list instance\n",
      "    Return number of occurrences of value.\n",
      "\n"
     ]
    }
   ],
   "source": [
    "# help(): Função que explica como utilizar cada método de um objeto\n",
    "help(lista.count)"
   ]
  },
  {
   "cell_type": "code",
   "execution_count": 12,
   "id": "28a7374b",
   "metadata": {},
   "outputs": [
    {
     "data": {
      "text/plain": [
       "['__add__',\n",
       " '__class__',\n",
       " '__class_getitem__',\n",
       " '__contains__',\n",
       " '__delattr__',\n",
       " '__delitem__',\n",
       " '__dir__',\n",
       " '__doc__',\n",
       " '__eq__',\n",
       " '__format__',\n",
       " '__ge__',\n",
       " '__getattribute__',\n",
       " '__getitem__',\n",
       " '__gt__',\n",
       " '__hash__',\n",
       " '__iadd__',\n",
       " '__imul__',\n",
       " '__init__',\n",
       " '__init_subclass__',\n",
       " '__iter__',\n",
       " '__le__',\n",
       " '__len__',\n",
       " '__lt__',\n",
       " '__mul__',\n",
       " '__ne__',\n",
       " '__new__',\n",
       " '__reduce__',\n",
       " '__reduce_ex__',\n",
       " '__repr__',\n",
       " '__reversed__',\n",
       " '__rmul__',\n",
       " '__setattr__',\n",
       " '__setitem__',\n",
       " '__sizeof__',\n",
       " '__str__',\n",
       " '__subclasshook__',\n",
       " 'append',\n",
       " 'clear',\n",
       " 'copy',\n",
       " 'count',\n",
       " 'extend',\n",
       " 'index',\n",
       " 'insert',\n",
       " 'pop',\n",
       " 'remove',\n",
       " 'reverse',\n",
       " 'sort']"
      ]
     },
     "execution_count": 12,
     "metadata": {},
     "output_type": "execute_result"
    }
   ],
   "source": [
    "# dir(): Mostra todos os métodos e atributos de um objeto\n",
    "dir(lista)"
   ]
  },
  {
   "cell_type": "code",
   "execution_count": 13,
   "id": "0f7e1e3b",
   "metadata": {},
   "outputs": [],
   "source": [
    "frase = \"Isto é uma string\""
   ]
  },
  {
   "cell_type": "code",
   "execution_count": 14,
   "id": "30992c26",
   "metadata": {},
   "outputs": [
    {
     "data": {
      "text/plain": [
       "str"
      ]
     },
     "execution_count": 14,
     "metadata": {},
     "output_type": "execute_result"
    }
   ],
   "source": [
    "type(frase)"
   ]
  },
  {
   "cell_type": "code",
   "execution_count": 15,
   "id": "67257fc8",
   "metadata": {},
   "outputs": [
    {
     "data": {
      "text/plain": [
       "'Isto é uma string'"
      ]
     },
     "execution_count": 15,
     "metadata": {},
     "output_type": "execute_result"
    }
   ],
   "source": [
    "# Verificar os métodos e atributos\n",
    "frase"
   ]
  },
  {
   "cell_type": "code",
   "execution_count": 16,
   "id": "0055e5e6",
   "metadata": {},
   "outputs": [
    {
     "name": "stdout",
     "output_type": "stream",
     "text": [
      "['Isto', 'é', 'uma', 'string']\n"
     ]
    }
   ],
   "source": [
    "# O método de um objeto pode ser chamado dentro de uma função\n",
    "print(frase.split())"
   ]
  },
  {
   "cell_type": "markdown",
   "id": "6100f0b9",
   "metadata": {},
   "source": [
    "### Fim"
   ]
  }
 ],
 "metadata": {
  "kernelspec": {
   "display_name": "Python 3 (ipykernel)",
   "language": "python",
   "name": "python3"
  },
  "language_info": {
   "codemirror_mode": {
    "name": "ipython",
    "version": 3
   },
   "file_extension": ".py",
   "mimetype": "text/x-python",
   "name": "python",
   "nbconvert_exporter": "python",
   "pygments_lexer": "ipython3",
   "version": "3.9.13"
  }
 },
 "nbformat": 4,
 "nbformat_minor": 5
}
