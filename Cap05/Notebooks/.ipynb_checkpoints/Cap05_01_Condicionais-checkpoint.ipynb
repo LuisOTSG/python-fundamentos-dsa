{
 "cells": [
  {
   "cell_type": "markdown",
   "id": "9fa058da",
   "metadata": {},
   "source": [
    "## (Cap05) 01 - Condicionais"
   ]
  },
  {
   "cell_type": "code",
   "execution_count": 1,
   "id": "b78bdc07",
   "metadata": {},
   "outputs": [
    {
     "name": "stdout",
     "output_type": "stream",
     "text": [
      "A versão do python utilizada é 3.9.13\n"
     ]
    }
   ],
   "source": [
    "from platform import python_version\n",
    "print(\"A versão do python utilizada é\", python_version())"
   ]
  },
  {
   "cell_type": "markdown",
   "id": "98742080",
   "metadata": {},
   "source": [
    "### Condicional IF"
   ]
  },
  {
   "cell_type": "code",
   "execution_count": 4,
   "id": "a1ee4576",
   "metadata": {},
   "outputs": [
    {
     "name": "stdout",
     "output_type": "stream",
     "text": [
      "A sentença é verdade!\n"
     ]
    }
   ],
   "source": [
    "# Condicional If(Se)\n",
    "if 5 > 2:\n",
    "    print(\"A sentença é verdade!\")"
   ]
  },
  {
   "cell_type": "code",
   "execution_count": 5,
   "id": "9756fcf9",
   "metadata": {},
   "outputs": [
    {
     "name": "stdout",
     "output_type": "stream",
     "text": [
      "A sentença é verdade!\n"
     ]
    }
   ],
   "source": [
    "# Condicional If...Else(Se...Se não)\n",
    "if 5 > 2:\n",
    "    print(\"A sentença é verdade!\")\n",
    "else:\n",
    "    print(\"A sentença é falsa!\")"
   ]
  },
  {
   "cell_type": "code",
   "execution_count": 6,
   "id": "bc8fee04",
   "metadata": {},
   "outputs": [
    {
     "name": "stdout",
     "output_type": "stream",
     "text": [
      "Dia de Chuva\n"
     ]
    }
   ],
   "source": [
    "# Condicional If...Else com variável\n",
    "dia = \"Quinta\"\n",
    "if dia == \"Segunda\":\n",
    "    print(\"Dia de Sol\")\n",
    "else:\n",
    "    print(\"Dia de Chuva\")"
   ]
  },
  {
   "cell_type": "code",
   "execution_count": 7,
   "id": "f385aaa4",
   "metadata": {},
   "outputs": [
    {
     "name": "stdout",
     "output_type": "stream",
     "text": [
      "Sem previsão para o dia!\n"
     ]
    }
   ],
   "source": [
    "# Usar o operador Elif podemos validar mais de uma condição\n",
    "if dia == \"Segunda\":\n",
    "    print(\"Dia de Sol\")\n",
    "elif dia == \"Terça\":\n",
    "    print(\"Dia de chuva\")\n",
    "else:\n",
    "    print(\"Sem previsão para o dia!\")"
   ]
  },
  {
   "cell_type": "markdown",
   "id": "43385c71",
   "metadata": {},
   "source": [
    "### Operadores Relacionais"
   ]
  },
  {
   "cell_type": "code",
   "execution_count": 8,
   "id": "daecaeb6",
   "metadata": {},
   "outputs": [
    {
     "data": {
      "text/plain": [
       "True"
      ]
     },
     "execution_count": 8,
     "metadata": {},
     "output_type": "execute_result"
    }
   ],
   "source": [
    "6 > 3"
   ]
  },
  {
   "cell_type": "code",
   "execution_count": 9,
   "id": "cbbb982d",
   "metadata": {},
   "outputs": [
    {
     "data": {
      "text/plain": [
       "False"
      ]
     },
     "execution_count": 9,
     "metadata": {},
     "output_type": "execute_result"
    }
   ],
   "source": [
    "3 > 7"
   ]
  },
  {
   "cell_type": "code",
   "execution_count": 10,
   "id": "53f2b5e0",
   "metadata": {},
   "outputs": [
    {
     "data": {
      "text/plain": [
       "True"
      ]
     },
     "execution_count": 10,
     "metadata": {},
     "output_type": "execute_result"
    }
   ],
   "source": [
    "4 < 8"
   ]
  },
  {
   "cell_type": "code",
   "execution_count": 11,
   "id": "a0cce6d6",
   "metadata": {},
   "outputs": [
    {
     "data": {
      "text/plain": [
       "True"
      ]
     },
     "execution_count": 11,
     "metadata": {},
     "output_type": "execute_result"
    }
   ],
   "source": [
    "4 >= 4 "
   ]
  },
  {
   "cell_type": "code",
   "execution_count": 12,
   "id": "6196a295",
   "metadata": {},
   "outputs": [
    {
     "data": {
      "text/plain": [
       "True"
      ]
     },
     "execution_count": 12,
     "metadata": {},
     "output_type": "execute_result"
    }
   ],
   "source": [
    "5 == 5"
   ]
  },
  {
   "cell_type": "code",
   "execution_count": 13,
   "id": "ebe13431",
   "metadata": {},
   "outputs": [
    {
     "name": "stdout",
     "output_type": "stream",
     "text": [
      "Testando o Python!\n"
     ]
    }
   ],
   "source": [
    "if 5 == 5:\n",
    "    print(\"Testando o Python!\")"
   ]
  },
  {
   "cell_type": "code",
   "execution_count": 14,
   "id": "a6a5bed0",
   "metadata": {},
   "outputs": [
    {
     "name": "stdout",
     "output_type": "stream",
     "text": [
      "Python funciona mesmo!\n"
     ]
    }
   ],
   "source": [
    "if True:\n",
    "    print(\"Python funciona mesmo!\")"
   ]
  },
  {
   "cell_type": "code",
   "execution_count": 17,
   "id": "883c80da",
   "metadata": {},
   "outputs": [
    {
     "name": "stdout",
     "output_type": "stream",
     "text": [
      "A sintaxe importa, lembre dos dois pontos e da indentação!\n"
     ]
    }
   ],
   "source": [
    "# Atenção na sintaxe - dois pontos (:) e a indetação (tabulação no início)\n",
    "if 4 > 3:\n",
    "    print(\"A sintaxe importa, lembre dos dois pontos e da indentação!\")"
   ]
  },
  {
   "cell_type": "markdown",
   "id": "f95025c6",
   "metadata": {},
   "source": [
    "### Condicionais Aninhados"
   ]
  },
  {
   "cell_type": "code",
   "execution_count": 18,
   "id": "84dc7d15",
   "metadata": {},
   "outputs": [
    {
     "name": "stdout",
     "output_type": "stream",
     "text": [
      "Você pode dirigir\n"
     ]
    }
   ],
   "source": [
    "idade = 25\n",
    "if idade > 17:\n",
    "    print(\"Você pode dirigir\")"
   ]
  },
  {
   "cell_type": "code",
   "execution_count": 21,
   "id": "cf79d5bd",
   "metadata": {},
   "outputs": [
    {
     "name": "stdout",
     "output_type": "stream",
     "text": [
      "Ok Luis, você pode beber\n"
     ]
    }
   ],
   "source": [
    "Nome = \"Luis\"\n",
    "if idade > 21:\n",
    "    if Nome == \"Luis\":\n",
    "        print(\"Ok Luis, você pode beber\")\n",
    "    else:\n",
    "        print(\"Desculpe, você não pode beber\")"
   ]
  },
  {
   "cell_type": "code",
   "execution_count": 22,
   "id": "0bfccc8f",
   "metadata": {},
   "outputs": [
    {
     "name": "stdout",
     "output_type": "stream",
     "text": [
      "Desculpe, você não pode dirigir\n"
     ]
    }
   ],
   "source": [
    "idade = 25\n",
    "Nome = \"Flávia\"\n",
    "if idade > 17 and Nome == \"Luis\":\n",
    "    print(\"Ok Luis, você pode dirigir\")\n",
    "else:\n",
    "    print(\"Desculpe, você não pode dirigir\")"
   ]
  },
  {
   "cell_type": "code",
   "execution_count": 24,
   "id": "0ba1cd5e",
   "metadata": {},
   "outputs": [
    {
     "name": "stdout",
     "output_type": "stream",
     "text": [
      "Ok, você pode dirigir\n"
     ]
    }
   ],
   "source": [
    "idade = 25\n",
    "Nome = \"Flávia\"\n",
    "if idade > 17 or Nome == \"Luis\":\n",
    "    print(\"Ok, você pode dirigir\")\n",
    "else:\n",
    "    print(\"Desculpe, você não pode dirigir\")"
   ]
  },
  {
   "cell_type": "markdown",
   "id": "44e2f834",
   "metadata": {},
   "source": [
    "### Operadores Lógicos"
   ]
  },
  {
   "cell_type": "code",
   "execution_count": 25,
   "id": "f7d5f85d",
   "metadata": {},
   "outputs": [
    {
     "name": "stdout",
     "output_type": "stream",
     "text": [
      "Você pode dirigir\n"
     ]
    }
   ],
   "source": [
    "idade = 25\n",
    "Nome = \"Luis\"\n",
    "if idade > 17:\n",
    "    print(\"Você pode dirigir\")"
   ]
  },
  {
   "cell_type": "code",
   "execution_count": 26,
   "id": "3cbf0e5a",
   "metadata": {},
   "outputs": [
    {
     "name": "stdout",
     "output_type": "stream",
     "text": [
      "Autorizado\n"
     ]
    }
   ],
   "source": [
    "idade = 25\n",
    "Nome = \"Luis\"\n",
    "if idade > 17 or Nome == \"Luis\":\n",
    "    print(\"Autorizado\")"
   ]
  },
  {
   "cell_type": "code",
   "execution_count": 27,
   "id": "84704eb9",
   "metadata": {},
   "outputs": [
    {
     "name": "stdout",
     "output_type": "stream",
     "text": [
      "As duas condições são verdadeiras\n"
     ]
    }
   ],
   "source": [
    "# Operador and\n",
    "numero = 4\n",
    "if (numero > 2) and (numero % 2 == 0):\n",
    "    print(\"As duas condições são verdadeiras\")"
   ]
  },
  {
   "cell_type": "code",
   "execution_count": 28,
   "id": "83e92602",
   "metadata": {},
   "outputs": [
    {
     "name": "stdout",
     "output_type": "stream",
     "text": [
      "Uma das duas condições é falsa\n"
     ]
    }
   ],
   "source": [
    "# Operador and\n",
    "numero = 4\n",
    "if (numero > 5) and (numero % 2 == 0):\n",
    "    print(\"As duas condições são verdadeiras\")\n",
    "else:\n",
    "    print(\"Uma das duas condições é falsa\")"
   ]
  },
  {
   "cell_type": "code",
   "execution_count": 30,
   "id": "4b557346",
   "metadata": {},
   "outputs": [
    {
     "name": "stdout",
     "output_type": "stream",
     "text": [
      "Uma das duas condições é verdadeira\n"
     ]
    }
   ],
   "source": [
    "# Operador or\n",
    "numero = 4\n",
    "if (numero > 5) or (numero % 2 == 0):\n",
    "    print(\"Uma das duas condições é verdadeira\")"
   ]
  },
  {
   "cell_type": "code",
   "execution_count": 34,
   "id": "46cea581",
   "metadata": {},
   "outputs": [
    {
     "name": "stdout",
     "output_type": "stream",
     "text": [
      "As duas condições são verdadeiras\n"
     ]
    }
   ],
   "source": [
    "# Operador not\n",
    "numero = 4\n",
    "if (not(numero > 5)) and (numero % 2 == 0):\n",
    "    print(\"As duas condições são verdadeiras\")\n",
    "else:\n",
    "    print(\"Uma das duas condições é falsa\")"
   ]
  },
  {
   "cell_type": "code",
   "execution_count": 33,
   "id": "05370d2b",
   "metadata": {},
   "outputs": [
    {
     "name": "stdout",
     "output_type": "stream",
     "text": [
      "As duas primeiras condições são verdadeiras ou a terceira é verdadeira\n"
     ]
    }
   ],
   "source": [
    "# Operador and, or e not\n",
    "numero = 4\n",
    "if (not(numero > 5) and (numero % 2 == 0)) or (numero == 4):\n",
    "    print(\"As duas primeiras condições são verdadeiras ou a terceira é verdadeira\")"
   ]
  },
  {
   "cell_type": "code",
   "execution_count": 35,
   "id": "a1e44e1f",
   "metadata": {},
   "outputs": [
    {
     "name": "stdout",
     "output_type": "stream",
     "text": [
      "Você foi aprovado!\n"
     ]
    }
   ],
   "source": [
    "# Usando variáveis\n",
    "materia = \"Data Engineering\"\n",
    "nota_final = 70\n",
    "\n",
    "if materia == \"Data Engineering\" and nota_final >= 70:\n",
    "    print(\"Você foi aprovado!\")\n",
    "else:\n",
    "    print(\"Desculpe, mas você não foi aprovado!\")"
   ]
  },
  {
   "cell_type": "code",
   "execution_count": null,
   "id": "9426c362",
   "metadata": {},
   "outputs": [],
   "source": [
    "# Usando mais de uma condição na cláusula If\n",
    "materia = \"Data Engineering\"\n",
    "nota_final = 60\n",
    "if materia == \"Data Engineering\" and nota_final >= 70:\n",
    "    print(\"Você foi aprovado!\")\n",
    "else:\n",
    "    print(\"Desculpe, mas você não foi aprovado!\")"
   ]
  },
  {
   "cell_type": "code",
   "execution_count": 42,
   "id": "3af55359",
   "metadata": {},
   "outputs": [
    {
     "name": "stdout",
     "output_type": "stream",
     "text": [
      "Você foi aprovado em Data Science com média final 95!\n"
     ]
    }
   ],
   "source": [
    "# Usando mais de uma condição na cláusula If e introduzindo placeholders\n",
    "materia = \"Data Science\"\n",
    "nota_final = 95\n",
    "semestre = 2\n",
    "if materia == \"Data Science\" and nota_final >= 70 and semestre != 1:\n",
    "    print(\"Você foi aprovado em %s com média final %r!\" %(materia, nota_final))\n",
    "else:\n",
    "    print(\"Desculpe, mas você não foi aprovado em %s, pois sua média foi menor do que 70!\" %(materia))"
   ]
  },
  {
   "cell_type": "markdown",
   "id": "67929c25",
   "metadata": {},
   "source": [
    "### Fim"
   ]
  }
 ],
 "metadata": {
  "kernelspec": {
   "display_name": "Python 3 (ipykernel)",
   "language": "python",
   "name": "python3"
  },
  "language_info": {
   "codemirror_mode": {
    "name": "ipython",
    "version": 3
   },
   "file_extension": ".py",
   "mimetype": "text/x-python",
   "name": "python",
   "nbconvert_exporter": "python",
   "pygments_lexer": "ipython3",
   "version": "3.9.13"
  }
 },
 "nbformat": 4,
 "nbformat_minor": 5
}
