{
 "cells": [
  {
   "cell_type": "markdown",
   "id": "90835eb3",
   "metadata": {},
   "source": [
    "## (Cap05) 06 - Funções"
   ]
  },
  {
   "cell_type": "code",
   "execution_count": 1,
   "id": "5b35f925",
   "metadata": {},
   "outputs": [
    {
     "name": "stdout",
     "output_type": "stream",
     "text": [
      "A versão do python utilizada é 3.9.13\n"
     ]
    }
   ],
   "source": [
    "from platform import python_version\n",
    "print(\"A versão do python utilizada é\", python_version())"
   ]
  },
  {
   "cell_type": "markdown",
   "id": "4b22e787",
   "metadata": {},
   "source": [
    "### Funções"
   ]
  },
  {
   "cell_type": "code",
   "execution_count": 2,
   "id": "9ac7cb13",
   "metadata": {},
   "outputs": [
    {
     "name": "stdout",
     "output_type": "stream",
     "text": [
      "Hello World\n"
     ]
    }
   ],
   "source": [
    "print(\"Hello World\")"
   ]
  },
  {
   "cell_type": "code",
   "execution_count": 5,
   "id": "93ad3c92",
   "metadata": {},
   "outputs": [],
   "source": [
    "# Definir uma função\n",
    "def firstFunc():\n",
    "    print(\"Hello World\")"
   ]
  },
  {
   "cell_type": "code",
   "execution_count": 7,
   "id": "90403eed",
   "metadata": {},
   "outputs": [
    {
     "name": "stdout",
     "output_type": "stream",
     "text": [
      "Hello World\n"
     ]
    }
   ],
   "source": [
    "firstFunc()"
   ]
  },
  {
   "cell_type": "code",
   "execution_count": 1,
   "id": "c9d00cbb",
   "metadata": {},
   "outputs": [],
   "source": [
    "# Definir outra função\n",
    "def nextFunc():\n",
    "    nome = 'Luis'\n",
    "    print(\"Hello %s\" %(nome))"
   ]
  },
  {
   "cell_type": "code",
   "execution_count": 2,
   "id": "50cb6419",
   "metadata": {},
   "outputs": [
    {
     "name": "stdout",
     "output_type": "stream",
     "text": [
      "Hello Luis\n"
     ]
    }
   ],
   "source": [
    "nextFunc()"
   ]
  },
  {
   "cell_type": "code",
   "execution_count": 9,
   "id": "4e2f6305",
   "metadata": {},
   "outputs": [],
   "source": [
    "# Definir uma função com parâmetro\n",
    "def secondFunc(name):\n",
    "    print(\"Hello %s\" %(name))"
   ]
  },
  {
   "cell_type": "code",
   "execution_count": 10,
   "id": "c0a697e6",
   "metadata": {},
   "outputs": [
    {
     "name": "stdout",
     "output_type": "stream",
     "text": [
      "Hello Luis\n"
     ]
    }
   ],
   "source": [
    "secondFunc('Luis')"
   ]
  },
  {
   "cell_type": "code",
   "execution_count": 11,
   "id": "bccb2629",
   "metadata": {},
   "outputs": [],
   "source": [
    "# Imprimir números\n",
    "def imprimeNumeros():\n",
    "    # Loop\n",
    "    for i in range(0,5):\n",
    "        print(\"Número \" + str(i))"
   ]
  },
  {
   "cell_type": "code",
   "execution_count": 12,
   "id": "7abba638",
   "metadata": {},
   "outputs": [
    {
     "name": "stdout",
     "output_type": "stream",
     "text": [
      "Número 0\n",
      "Número 1\n",
      "Número 2\n",
      "Número 3\n",
      "Número 4\n"
     ]
    }
   ],
   "source": [
    "imprimeNumeros()"
   ]
  },
  {
   "cell_type": "code",
   "execution_count": 21,
   "id": "807bb89b",
   "metadata": {},
   "outputs": [],
   "source": [
    "# Somar números\n",
    "def addNum(first_num, second_num):\n",
    "    print(\"Primeiro número:\", str(first_num))\n",
    "    print(\"Segundo número:\", str(second_num))\n",
    "    print(\"Resultado da soma:\", first_num + second_num)"
   ]
  },
  {
   "cell_type": "code",
   "execution_count": 22,
   "id": "46de6dfd",
   "metadata": {},
   "outputs": [
    {
     "name": "stdout",
     "output_type": "stream",
     "text": [
      "Primeiro número: 5\n",
      "Segundo número: 10\n",
      "Resultado da soma: 15\n"
     ]
    }
   ],
   "source": [
    "addNum(5, 10)"
   ]
  },
  {
   "cell_type": "code",
   "execution_count": 23,
   "id": "663aff50",
   "metadata": {},
   "outputs": [
    {
     "name": "stdout",
     "output_type": "stream",
     "text": [
      "Primeiro número: 5\n",
      "Segundo número: 2\n",
      "Resultado da soma: 7\n"
     ]
    }
   ],
   "source": [
    "addNum(5, 2)"
   ]
  },
  {
   "cell_type": "code",
   "execution_count": 29,
   "id": "c28c1a8f",
   "metadata": {},
   "outputs": [],
   "source": [
    "# Número variável de argumentos\n",
    "def printVarInfo(arg1, *args):\n",
    "    # Imprimir o valor do primeiro argumento\n",
    "    print(\"O parâmetro passado foi:\", arg1)\n",
    "    \n",
    "    # Imprimir o valor do segundo argumento\n",
    "    for item in args:\n",
    "        print(\"O parâmetro passado foi:\", item)\n",
    "    return;"
   ]
  },
  {
   "cell_type": "code",
   "execution_count": 30,
   "id": "255238bb",
   "metadata": {},
   "outputs": [
    {
     "name": "stdout",
     "output_type": "stream",
     "text": [
      "O parâmetro passado foi: 10\n"
     ]
    }
   ],
   "source": [
    "# Usando apenas um argumento\n",
    "printVarInfo(10)"
   ]
  },
  {
   "cell_type": "code",
   "execution_count": 31,
   "id": "a139de4f",
   "metadata": {},
   "outputs": [
    {
     "name": "stdout",
     "output_type": "stream",
     "text": [
      "O parâmetro passado foi: Pêssego\n",
      "O parâmetro passado foi: Maça\n"
     ]
    }
   ],
   "source": [
    "# Usando mais de um argumento\n",
    "printVarInfo('Pêssego', 'Maça')"
   ]
  },
  {
   "cell_type": "code",
   "execution_count": 32,
   "id": "24e4fb65",
   "metadata": {},
   "outputs": [
    {
     "name": "stdout",
     "output_type": "stream",
     "text": [
      "O parâmetro passado foi: Python\n",
      "O parâmetro passado foi: Análise\n",
      "O parâmetro passado foi: Fundamentos\n"
     ]
    }
   ],
   "source": [
    "# Usando mais de um argumento\n",
    "printVarInfo('Python', 'Análise', 'Fundamentos')"
   ]
  },
  {
   "cell_type": "markdown",
   "id": "b2571d51",
   "metadata": {},
   "source": [
    "### Escopo de Variável - Local e Global"
   ]
  },
  {
   "cell_type": "code",
   "execution_count": 33,
   "id": "34060102",
   "metadata": {},
   "outputs": [],
   "source": [
    "# Variável Global - Pois está no bloco principal\n",
    "var_global = 25\n",
    "\n",
    "# Variável Local - Pois está em um bloco de uma Função\n",
    "def multiplicaNumeros(num1, num2):\n",
    "    var_global = num1 * num2  # Esta é uma variável local\n",
    "    print(var_global)"
   ]
  },
  {
   "cell_type": "code",
   "execution_count": 34,
   "id": "337d638e",
   "metadata": {},
   "outputs": [
    {
     "name": "stdout",
     "output_type": "stream",
     "text": [
      "125\n"
     ]
    }
   ],
   "source": [
    "multiplicaNumeros(5, 25)"
   ]
  },
  {
   "cell_type": "code",
   "execution_count": 35,
   "id": "55f86de7",
   "metadata": {},
   "outputs": [
    {
     "name": "stdout",
     "output_type": "stream",
     "text": [
      "25\n"
     ]
    }
   ],
   "source": [
    "print(var_global)"
   ]
  },
  {
   "cell_type": "markdown",
   "id": "f260eb28",
   "metadata": {},
   "source": [
    "### Funções Built-in"
   ]
  },
  {
   "cell_type": "code",
   "execution_count": 36,
   "id": "585eb873",
   "metadata": {},
   "outputs": [
    {
     "data": {
      "text/plain": [
       "15"
      ]
     },
     "execution_count": 36,
     "metadata": {},
     "output_type": "execute_result"
    }
   ],
   "source": [
    "# abs - Absoluto\n",
    "abs(-15)"
   ]
  },
  {
   "cell_type": "code",
   "execution_count": 37,
   "id": "dfd227fe",
   "metadata": {},
   "outputs": [
    {
     "data": {
      "text/plain": [
       "15"
      ]
     },
     "execution_count": 37,
     "metadata": {},
     "output_type": "execute_result"
    }
   ],
   "source": [
    "abs(15)"
   ]
  },
  {
   "cell_type": "code",
   "execution_count": 38,
   "id": "8fc31cf2",
   "metadata": {},
   "outputs": [
    {
     "data": {
      "text/plain": [
       "False"
      ]
     },
     "execution_count": 38,
     "metadata": {},
     "output_type": "execute_result"
    }
   ],
   "source": [
    "# bool - Booleano (True ou False)\n",
    "bool(0)"
   ]
  },
  {
   "cell_type": "code",
   "execution_count": 39,
   "id": "e17fbd52",
   "metadata": {},
   "outputs": [
    {
     "data": {
      "text/plain": [
       "True"
      ]
     },
     "execution_count": 39,
     "metadata": {},
     "output_type": "execute_result"
    }
   ],
   "source": [
    "bool(1)"
   ]
  },
  {
   "cell_type": "code",
   "execution_count": 40,
   "id": "166a2ae1",
   "metadata": {},
   "outputs": [
    {
     "data": {
      "text/plain": [
       "3"
      ]
     },
     "execution_count": 40,
     "metadata": {},
     "output_type": "execute_result"
    }
   ],
   "source": [
    "# int - Inteiro\n",
    "int(3.14)"
   ]
  },
  {
   "cell_type": "code",
   "execution_count": 41,
   "id": "804a2348",
   "metadata": {},
   "outputs": [
    {
     "data": {
      "text/plain": [
       "'12'"
      ]
     },
     "execution_count": 41,
     "metadata": {},
     "output_type": "execute_result"
    }
   ],
   "source": [
    "# str - String\n",
    "str(12)"
   ]
  },
  {
   "cell_type": "code",
   "execution_count": 42,
   "id": "db400e1a",
   "metadata": {},
   "outputs": [
    {
     "data": {
      "text/plain": [
       "3.0"
      ]
     },
     "execution_count": 42,
     "metadata": {},
     "output_type": "execute_result"
    }
   ],
   "source": [
    "# float - Ponto flutuante\n",
    "float(3)"
   ]
  },
  {
   "cell_type": "code",
   "execution_count": 45,
   "id": "8e92864a",
   "metadata": {},
   "outputs": [
    {
     "data": {
      "text/plain": [
       "26"
      ]
     },
     "execution_count": 45,
     "metadata": {},
     "output_type": "execute_result"
    }
   ],
   "source": [
    "int(\"26\")"
   ]
  },
  {
   "cell_type": "code",
   "execution_count": 46,
   "id": "aafd345e",
   "metadata": {},
   "outputs": [
    {
     "data": {
      "text/plain": [
       "123.345"
      ]
     },
     "execution_count": 46,
     "metadata": {},
     "output_type": "execute_result"
    }
   ],
   "source": [
    "float(\"123.345\")"
   ]
  },
  {
   "cell_type": "code",
   "execution_count": 47,
   "id": "7c18d81a",
   "metadata": {},
   "outputs": [
    {
     "ename": "ValueError",
     "evalue": "could not convert string to float: '123.3B45'",
     "output_type": "error",
     "traceback": [
      "\u001b[1;31m---------------------------------------------------------------------------\u001b[0m",
      "\u001b[1;31mValueError\u001b[0m                                Traceback (most recent call last)",
      "Cell \u001b[1;32mIn[47], line 1\u001b[0m\n\u001b[1;32m----> 1\u001b[0m \u001b[38;5;28;43mfloat\u001b[39;49m\u001b[43m(\u001b[49m\u001b[38;5;124;43m\"\u001b[39;49m\u001b[38;5;124;43m123.3B45\u001b[39;49m\u001b[38;5;124;43m\"\u001b[39;49m\u001b[43m)\u001b[49m\n",
      "\u001b[1;31mValueError\u001b[0m: could not convert string to float: '123.3B45'"
     ]
    }
   ],
   "source": [
    "float(\"123.3B45\")"
   ]
  },
  {
   "cell_type": "code",
   "execution_count": 48,
   "id": "dc7ead9c",
   "metadata": {},
   "outputs": [
    {
     "data": {
      "text/plain": [
       "'12'"
      ]
     },
     "execution_count": 48,
     "metadata": {},
     "output_type": "execute_result"
    }
   ],
   "source": [
    "str(12)"
   ]
  },
  {
   "cell_type": "code",
   "execution_count": 49,
   "id": "f4ab4f29",
   "metadata": {},
   "outputs": [
    {
     "data": {
      "text/plain": [
       "4"
      ]
     },
     "execution_count": 49,
     "metadata": {},
     "output_type": "execute_result"
    }
   ],
   "source": [
    "len([24, 32, 17, 49])"
   ]
  },
  {
   "cell_type": "code",
   "execution_count": 53,
   "id": "9027e948",
   "metadata": {},
   "outputs": [],
   "source": [
    "array = [1, 3, 5]"
   ]
  },
  {
   "cell_type": "code",
   "execution_count": 54,
   "id": "819ef12b",
   "metadata": {},
   "outputs": [
    {
     "data": {
      "text/plain": [
       "5"
      ]
     },
     "execution_count": 54,
     "metadata": {},
     "output_type": "execute_result"
    }
   ],
   "source": [
    "max(array)"
   ]
  },
  {
   "cell_type": "code",
   "execution_count": 55,
   "id": "9b56236a",
   "metadata": {},
   "outputs": [
    {
     "data": {
      "text/plain": [
       "1"
      ]
     },
     "execution_count": 55,
     "metadata": {},
     "output_type": "execute_result"
    }
   ],
   "source": [
    "min(array)"
   ]
  },
  {
   "cell_type": "code",
   "execution_count": 56,
   "id": "59515ed4",
   "metadata": {},
   "outputs": [],
   "source": [
    "list1 = [15, 25, 69, 79]"
   ]
  },
  {
   "cell_type": "code",
   "execution_count": 57,
   "id": "4ecb6307",
   "metadata": {},
   "outputs": [
    {
     "data": {
      "text/plain": [
       "188"
      ]
     },
     "execution_count": 57,
     "metadata": {},
     "output_type": "execute_result"
    }
   ],
   "source": [
    "sum(list1)"
   ]
  },
  {
   "cell_type": "code",
   "execution_count": 43,
   "id": "6a5855c2",
   "metadata": {},
   "outputs": [
    {
     "name": "stdout",
     "output_type": "stream",
     "text": [
      "Digite a sua idade: 18\n"
     ]
    },
    {
     "ename": "TypeError",
     "evalue": "'>=' not supported between instances of 'str' and 'int'",
     "output_type": "error",
     "traceback": [
      "\u001b[1;31m---------------------------------------------------------------------------\u001b[0m",
      "\u001b[1;31mTypeError\u001b[0m                                 Traceback (most recent call last)",
      "Cell \u001b[1;32mIn[43], line 3\u001b[0m\n\u001b[0;32m      1\u001b[0m \u001b[38;5;66;03m# Erro ao executar devido a conversão\u001b[39;00m\n\u001b[0;32m      2\u001b[0m idade \u001b[38;5;241m=\u001b[39m \u001b[38;5;28minput\u001b[39m(\u001b[38;5;124m\"\u001b[39m\u001b[38;5;124mDigite a sua idade: \u001b[39m\u001b[38;5;124m\"\u001b[39m)\n\u001b[1;32m----> 3\u001b[0m \u001b[38;5;28;01mif\u001b[39;00m \u001b[43midade\u001b[49m\u001b[43m \u001b[49m\u001b[38;5;241;43m>\u001b[39;49m\u001b[38;5;241;43m=\u001b[39;49m\u001b[43m \u001b[49m\u001b[38;5;241;43m18\u001b[39;49m:\n\u001b[0;32m      4\u001b[0m     \u001b[38;5;28mprint\u001b[39m(\u001b[38;5;124m\"\u001b[39m\u001b[38;5;124mVocê pode dirigir veículos caso tenha CNH!\u001b[39m\u001b[38;5;124m\"\u001b[39m)  \n\u001b[0;32m      5\u001b[0m \u001b[38;5;28;01melse\u001b[39;00m:\n",
      "\u001b[1;31mTypeError\u001b[0m: '>=' not supported between instances of 'str' and 'int'"
     ]
    }
   ],
   "source": [
    "# Erro ao executar devido a conversão\n",
    "idade = input(\"Digite a sua idade: \")\n",
    "if idade >= 18:\n",
    "    print(\"Você pode dirigir veículos caso tenha CNH!\")  \n",
    "else:\n",
    "    print(\"Você não tem permissão para dirigir\")  "
   ]
  },
  {
   "cell_type": "code",
   "execution_count": 44,
   "id": "c8aee3d3",
   "metadata": {},
   "outputs": [
    {
     "name": "stdout",
     "output_type": "stream",
     "text": [
      "Digite a sua idade: 18\n",
      "Você pode dirigir veículos caso tenha CNH!\n"
     ]
    }
   ],
   "source": [
    "# Para fazer a conversão do valor digitado, utiliza-se o int()\n",
    "idade = int(input(\"Digite a sua idade: \"))\n",
    "if idade >= 18:\n",
    "    print(\"Você pode dirigir veículos caso tenha CNH!\")  \n",
    "else:\n",
    "    print(\"Você não tem permissão para dirigir\")  "
   ]
  },
  {
   "cell_type": "markdown",
   "id": "e3a011a1",
   "metadata": {},
   "source": [
    "### Criando Funções Usando Outras Funções\n",
    "https://pypi.org/"
   ]
  },
  {
   "cell_type": "code",
   "execution_count": null,
   "id": "060b37c3",
   "metadata": {},
   "outputs": [],
   "source": [
    "import math\n",
    "\n",
    "# Verificar se um número é primo\n",
    "def numPrimo(num):\n",
    "    if (num % 2) == 0 and num > 2: \n",
    "        return \"Este número não é primo\"\n",
    "    for i in range(3, int(math.sqrt(num)) + 1, 2):\n",
    "        if (num % i) == 0:\n",
    "            return \"Este número não é primo\"\n",
    "    return \"Este número é primo\""
   ]
  },
  {
   "cell_type": "code",
   "execution_count": null,
   "id": "6db846e6",
   "metadata": {},
   "outputs": [],
   "source": [
    "numPrimo(541)"
   ]
  },
  {
   "cell_type": "code",
   "execution_count": null,
   "id": "ccfc1689",
   "metadata": {},
   "outputs": [],
   "source": [
    "numPrimo(2)"
   ]
  },
  {
   "cell_type": "code",
   "execution_count": null,
   "id": "94be48d9",
   "metadata": {},
   "outputs": [],
   "source": [
    "caixa_baixa = \"Este Texto Deveria Estar Todo Em LowerCase\""
   ]
  },
  {
   "cell_type": "code",
   "execution_count": null,
   "id": "4ca35944",
   "metadata": {},
   "outputs": [],
   "source": [
    "def lowercase(text):\n",
    "    return text.lower()"
   ]
  },
  {
   "cell_type": "code",
   "execution_count": null,
   "id": "408b6b29",
   "metadata": {},
   "outputs": [],
   "source": [
    "lowercased_string = lowercase(caixa_baixa)"
   ]
  },
  {
   "cell_type": "code",
   "execution_count": null,
   "id": "2eef6144",
   "metadata": {},
   "outputs": [],
   "source": [
    "lowercased_string"
   ]
  },
  {
   "cell_type": "markdown",
   "id": "9c6641fe",
   "metadata": {},
   "source": [
    "### Split dos Dados"
   ]
  },
  {
   "cell_type": "code",
   "execution_count": null,
   "id": "e6d1d4a5",
   "metadata": {},
   "outputs": [],
   "source": []
  },
  {
   "cell_type": "code",
   "execution_count": null,
   "id": "08cee042",
   "metadata": {},
   "outputs": [],
   "source": []
  },
  {
   "cell_type": "markdown",
   "id": "6100f0b9",
   "metadata": {},
   "source": [
    "### Fim"
   ]
  }
 ],
 "metadata": {
  "kernelspec": {
   "display_name": "Python 3 (ipykernel)",
   "language": "python",
   "name": "python3"
  },
  "language_info": {
   "codemirror_mode": {
    "name": "ipython",
    "version": 3
   },
   "file_extension": ".py",
   "mimetype": "text/x-python",
   "name": "python",
   "nbconvert_exporter": "python",
   "pygments_lexer": "ipython3",
   "version": "3.9.13"
  }
 },
 "nbformat": 4,
 "nbformat_minor": 5
}
