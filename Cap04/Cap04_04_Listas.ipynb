{
 "cells": [
  {
   "cell_type": "markdown",
   "id": "4712fb58",
   "metadata": {},
   "source": [
    "## (Cap04) 04 - Listas"
   ]
  },
  {
   "cell_type": "markdown",
   "id": "5608ed82",
   "metadata": {},
   "source": [
    "### Trabalhando com Listas"
   ]
  },
  {
   "cell_type": "code",
   "execution_count": 1,
   "id": "fe4c2f63",
   "metadata": {},
   "outputs": [],
   "source": [
    "# Criar uma lista (com strings)\n",
    "lista_1 = ['arroz, feijão, frango, tomate']"
   ]
  },
  {
   "cell_type": "code",
   "execution_count": 2,
   "id": "57e0da23",
   "metadata": {},
   "outputs": [
    {
     "data": {
      "text/plain": [
       "list"
      ]
     },
     "execution_count": 2,
     "metadata": {},
     "output_type": "execute_result"
    }
   ],
   "source": [
    "# O que caracteriza o tipo lista são os colchetes '[]'\n",
    "type(lista_1)"
   ]
  },
  {
   "cell_type": "code",
   "execution_count": 3,
   "id": "a68be0d7",
   "metadata": {},
   "outputs": [
    {
     "data": {
      "text/plain": [
       "['arroz, feijão, frango, tomate']"
      ]
     },
     "execution_count": 3,
     "metadata": {},
     "output_type": "execute_result"
    }
   ],
   "source": [
    "# Imprimir uma lista\n",
    "lista_1"
   ]
  },
  {
   "cell_type": "code",
   "execution_count": 4,
   "id": "c2138ede",
   "metadata": {},
   "outputs": [],
   "source": [
    "# Criar outra lista (de strings)\n",
    "lista_2 = ['arroz', 'feijão', 'frango', 'tomate']"
   ]
  },
  {
   "cell_type": "code",
   "execution_count": 5,
   "id": "9c36775d",
   "metadata": {},
   "outputs": [
    {
     "data": {
      "text/plain": [
       "list"
      ]
     },
     "execution_count": 5,
     "metadata": {},
     "output_type": "execute_result"
    }
   ],
   "source": [
    "# Verificar o tipo\n",
    "type(lista_2)"
   ]
  },
  {
   "cell_type": "code",
   "execution_count": 6,
   "id": "9df0d82e",
   "metadata": {},
   "outputs": [
    {
     "data": {
      "text/plain": [
       "['arroz', 'feijão', 'frango', 'tomate']"
      ]
     },
     "execution_count": 6,
     "metadata": {},
     "output_type": "execute_result"
    }
   ],
   "source": [
    "# Imprimir a lista\n",
    "lista_2"
   ]
  },
  {
   "cell_type": "code",
   "execution_count": 7,
   "id": "8c57676f",
   "metadata": {},
   "outputs": [],
   "source": [
    "# Criando uma lista (com mais de um tipo de dado)\n",
    "lista_3 = [25, 100, 'Data Science']"
   ]
  },
  {
   "cell_type": "code",
   "execution_count": 8,
   "id": "d35caecb",
   "metadata": {},
   "outputs": [
    {
     "data": {
      "text/plain": [
       "list"
      ]
     },
     "execution_count": 8,
     "metadata": {},
     "output_type": "execute_result"
    }
   ],
   "source": [
    "# Verificar o tipo\n",
    "type(lista_3)"
   ]
  },
  {
   "cell_type": "code",
   "execution_count": 9,
   "id": "04a6b4fb",
   "metadata": {},
   "outputs": [
    {
     "data": {
      "text/plain": [
       "[25, 100, 'Data Science']"
      ]
     },
     "execution_count": 9,
     "metadata": {},
     "output_type": "execute_result"
    }
   ],
   "source": [
    "# Imprimir a lista\n",
    "lista_3"
   ]
  },
  {
   "cell_type": "code",
   "execution_count": 10,
   "id": "ea1d2ae2",
   "metadata": {},
   "outputs": [],
   "source": [
    "# Atribuir cada valor da lista à uma variável (fatiar uma lista)\n",
    "item_1 = lista_3[0]\n",
    "item_2 = lista_3[1]\n",
    "item_3 = lista_3[2]"
   ]
  },
  {
   "cell_type": "code",
   "execution_count": 11,
   "id": "da5ef12d",
   "metadata": {},
   "outputs": [
    {
     "name": "stdout",
     "output_type": "stream",
     "text": [
      "25 100 Data Science\n"
     ]
    }
   ],
   "source": [
    "# Imprimir as variáveis\n",
    "print(item_1, item_2, item_3)"
   ]
  },
  {
   "cell_type": "markdown",
   "id": "b49cce81",
   "metadata": {},
   "source": [
    "### Atualizando um item de uma lista"
   ]
  },
  {
   "cell_type": "code",
   "execution_count": 12,
   "id": "3f208af3",
   "metadata": {},
   "outputs": [
    {
     "data": {
      "text/plain": [
       "['arroz', 'feijão', 'frango', 'tomate']"
      ]
     },
     "execution_count": 12,
     "metadata": {},
     "output_type": "execute_result"
    }
   ],
   "source": [
    "lista_2"
   ]
  },
  {
   "cell_type": "code",
   "execution_count": 13,
   "id": "9920c253",
   "metadata": {},
   "outputs": [
    {
     "data": {
      "text/plain": [
       "'arroz'"
      ]
     },
     "execution_count": 13,
     "metadata": {},
     "output_type": "execute_result"
    }
   ],
   "source": [
    "# Imprimir um item de uma lista\n",
    "lista_2[0]"
   ]
  },
  {
   "cell_type": "code",
   "execution_count": 14,
   "id": "42dfd04d",
   "metadata": {},
   "outputs": [],
   "source": [
    "# Atualizar o item da lista\n",
    "lista_2[0] = 'macarrão'"
   ]
  },
  {
   "cell_type": "code",
   "execution_count": 15,
   "id": "6037d28c",
   "metadata": {},
   "outputs": [
    {
     "data": {
      "text/plain": [
       "['macarrão', 'feijão', 'frango', 'tomate']"
      ]
     },
     "execution_count": 15,
     "metadata": {},
     "output_type": "execute_result"
    }
   ],
   "source": [
    "# Imprimir a lista alterada\n",
    "lista_2"
   ]
  },
  {
   "cell_type": "markdown",
   "id": "118f03c6",
   "metadata": {},
   "source": [
    "### Deletando um item de uma lista"
   ]
  },
  {
   "cell_type": "code",
   "execution_count": 16,
   "id": "df93e307",
   "metadata": {},
   "outputs": [
    {
     "ename": "IndexError",
     "evalue": "list assignment index out of range",
     "output_type": "error",
     "traceback": [
      "\u001b[1;31m---------------------------------------------------------------------------\u001b[0m",
      "\u001b[1;31mIndexError\u001b[0m                                Traceback (most recent call last)",
      "\u001b[1;32m~\\AppData\\Local\\Temp\\ipykernel_14528\\3018719.py\u001b[0m in \u001b[0;36m<module>\u001b[1;34m\u001b[0m\n\u001b[0;32m      1\u001b[0m \u001b[1;31m# Não é possível deletar um item que não existe na lista\u001b[0m\u001b[1;33m\u001b[0m\u001b[1;33m\u001b[0m\u001b[0m\n\u001b[1;32m----> 2\u001b[1;33m \u001b[1;32mdel\u001b[0m \u001b[0mlista_2\u001b[0m\u001b[1;33m[\u001b[0m\u001b[1;36m4\u001b[0m\u001b[1;33m]\u001b[0m\u001b[1;33m\u001b[0m\u001b[1;33m\u001b[0m\u001b[0m\n\u001b[0m",
      "\u001b[1;31mIndexError\u001b[0m: list assignment index out of range"
     ]
    }
   ],
   "source": [
    "# Não é possível deletar um item que não existe na lista\n",
    "del lista_2[4]"
   ]
  },
  {
   "cell_type": "code",
   "execution_count": 17,
   "id": "752f8e21",
   "metadata": {},
   "outputs": [
    {
     "data": {
      "text/plain": [
       "['macarrão', 'feijão', 'frango']"
      ]
     },
     "execution_count": 17,
     "metadata": {},
     "output_type": "execute_result"
    }
   ],
   "source": [
    "# Deletar um item a partir do índice e imprimir a lista\n",
    "del lista_2[3]\n",
    "lista_2"
   ]
  },
  {
   "cell_type": "markdown",
   "id": "70efef57",
   "metadata": {},
   "source": [
    "### Lista de Listas (Lista Aninhada\n",
    "Listas de Listas são Matrizes em Python"
   ]
  },
  {
   "cell_type": "code",
   "execution_count": 18,
   "id": "519fc90a",
   "metadata": {},
   "outputs": [],
   "source": [
    "# Criar uma lista de listas\n",
    "listas = [[1, 2, 3], [4.5, 5.5, 6], [7, 8, 9]]"
   ]
  },
  {
   "cell_type": "code",
   "execution_count": 19,
   "id": "136528cc",
   "metadata": {},
   "outputs": [
    {
     "name": "stdout",
     "output_type": "stream",
     "text": [
      "[[1, 2, 3], [4.5, 5.5, 6], [7, 8, 9]]\n"
     ]
    }
   ],
   "source": [
    "# Imprimir a lista\n",
    "print(listas)"
   ]
  },
  {
   "cell_type": "code",
   "execution_count": 20,
   "id": "50c42e46",
   "metadata": {},
   "outputs": [],
   "source": [
    "# Atribuir um item da lista à uma variável\n",
    "a = listas[0]"
   ]
  },
  {
   "cell_type": "code",
   "execution_count": 21,
   "id": "39dac0e5",
   "metadata": {},
   "outputs": [
    {
     "data": {
      "text/plain": [
       "[1, 2, 3]"
      ]
     },
     "execution_count": 21,
     "metadata": {},
     "output_type": "execute_result"
    }
   ],
   "source": [
    "# Imprimir a variável\n",
    "a"
   ]
  },
  {
   "cell_type": "code",
   "execution_count": 22,
   "id": "86d9525b",
   "metadata": {},
   "outputs": [
    {
     "data": {
      "text/plain": [
       "1"
      ]
     },
     "execution_count": 22,
     "metadata": {},
     "output_type": "execute_result"
    }
   ],
   "source": [
    "# Atribuir um item da lista extraída das listas em um variável e imprimir\n",
    "a1 = a[0]\n",
    "a1"
   ]
  },
  {
   "cell_type": "code",
   "execution_count": 23,
   "id": "68f06773",
   "metadata": {},
   "outputs": [],
   "source": [
    "list1 = listas[1]"
   ]
  },
  {
   "cell_type": "code",
   "execution_count": 24,
   "id": "51b53970",
   "metadata": {},
   "outputs": [
    {
     "data": {
      "text/plain": [
       "[4.5, 5.5, 6]"
      ]
     },
     "execution_count": 24,
     "metadata": {},
     "output_type": "execute_result"
    }
   ],
   "source": [
    "list1"
   ]
  },
  {
   "cell_type": "code",
   "execution_count": 25,
   "id": "37bcabdb",
   "metadata": {},
   "outputs": [],
   "source": [
    "valor1_list1 = list1[1]"
   ]
  },
  {
   "cell_type": "code",
   "execution_count": 26,
   "id": "0c085571",
   "metadata": {},
   "outputs": [
    {
     "data": {
      "text/plain": [
       "5.5"
      ]
     },
     "execution_count": 26,
     "metadata": {},
     "output_type": "execute_result"
    }
   ],
   "source": [
    "valor1_list1"
   ]
  },
  {
   "cell_type": "code",
   "execution_count": 27,
   "id": "4a84210b",
   "metadata": {},
   "outputs": [],
   "source": [
    "list2 = listas[2]"
   ]
  },
  {
   "cell_type": "code",
   "execution_count": 28,
   "id": "b67366dc",
   "metadata": {},
   "outputs": [
    {
     "data": {
      "text/plain": [
       "[7, 8, 9]"
      ]
     },
     "execution_count": 28,
     "metadata": {},
     "output_type": "execute_result"
    }
   ],
   "source": [
    "list2"
   ]
  },
  {
   "cell_type": "code",
   "execution_count": 29,
   "id": "06a799f1",
   "metadata": {},
   "outputs": [],
   "source": [
    "valor0_list2 = list2[0] "
   ]
  },
  {
   "cell_type": "code",
   "execution_count": 30,
   "id": "f864877e",
   "metadata": {},
   "outputs": [
    {
     "data": {
      "text/plain": [
       "7"
      ]
     },
     "execution_count": 30,
     "metadata": {},
     "output_type": "execute_result"
    }
   ],
   "source": [
    "valor0_list2"
   ]
  },
  {
   "cell_type": "markdown",
   "id": "7cca28c7",
   "metadata": {},
   "source": [
    "### Operações com Listas"
   ]
  },
  {
   "cell_type": "code",
   "execution_count": 31,
   "id": "1c90bc7a",
   "metadata": {},
   "outputs": [],
   "source": [
    "# Criar uma lista aninhada\n",
    "listas2 = [[1, 2, 3], [4.5, 5.5, 6], [7, 8, 9]]"
   ]
  },
  {
   "cell_type": "code",
   "execution_count": 32,
   "id": "1e04aa72",
   "metadata": {},
   "outputs": [
    {
     "data": {
      "text/plain": [
       "[[1, 2, 3], [4.5, 5.5, 6], [7, 8, 9]]"
      ]
     },
     "execution_count": 32,
     "metadata": {},
     "output_type": "execute_result"
    }
   ],
   "source": [
    "# Imprimir a lista aninhada\n",
    "listas2"
   ]
  },
  {
   "cell_type": "code",
   "execution_count": 33,
   "id": "8df98868",
   "metadata": {},
   "outputs": [],
   "source": [
    "# Atribuir um item da lista à uma variável (método 2)\n",
    "b = listas2[0][0]"
   ]
  },
  {
   "cell_type": "code",
   "execution_count": 34,
   "id": "1fc90232",
   "metadata": {},
   "outputs": [
    {
     "data": {
      "text/plain": [
       "1"
      ]
     },
     "execution_count": 34,
     "metadata": {},
     "output_type": "execute_result"
    }
   ],
   "source": [
    "# Imprimir a variável atribuída\n",
    "b"
   ]
  },
  {
   "cell_type": "code",
   "execution_count": 35,
   "id": "f653bbac",
   "metadata": {},
   "outputs": [],
   "source": [
    "c = listas2[1][1]"
   ]
  },
  {
   "cell_type": "code",
   "execution_count": 36,
   "id": "6ba2ce5a",
   "metadata": {},
   "outputs": [
    {
     "data": {
      "text/plain": [
       "5.5"
      ]
     },
     "execution_count": 36,
     "metadata": {},
     "output_type": "execute_result"
    }
   ],
   "source": [
    "c"
   ]
  },
  {
   "cell_type": "code",
   "execution_count": 37,
   "id": "40bee6e9",
   "metadata": {},
   "outputs": [],
   "source": [
    "d = listas2[2][0] + 10"
   ]
  },
  {
   "cell_type": "code",
   "execution_count": 38,
   "id": "94c72ccc",
   "metadata": {},
   "outputs": [
    {
     "data": {
      "text/plain": [
       "17"
      ]
     },
     "execution_count": 38,
     "metadata": {},
     "output_type": "execute_result"
    }
   ],
   "source": [
    "d"
   ]
  },
  {
   "cell_type": "code",
   "execution_count": 39,
   "id": "3a1068b5",
   "metadata": {},
   "outputs": [],
   "source": [
    "e = d + listas2[2][0] * 2"
   ]
  },
  {
   "cell_type": "code",
   "execution_count": 40,
   "id": "5c736d53",
   "metadata": {},
   "outputs": [
    {
     "data": {
      "text/plain": [
       "31"
      ]
     },
     "execution_count": 40,
     "metadata": {},
     "output_type": "execute_result"
    }
   ],
   "source": [
    "e"
   ]
  },
  {
   "cell_type": "markdown",
   "id": "8e6d2441",
   "metadata": {},
   "source": [
    "### Concatenando Listas"
   ]
  },
  {
   "cell_type": "code",
   "execution_count": 41,
   "id": "c5a9d780",
   "metadata": {},
   "outputs": [],
   "source": [
    "lista_s1 = [35, 40, 45]"
   ]
  },
  {
   "cell_type": "code",
   "execution_count": 42,
   "id": "e907b7ca",
   "metadata": {},
   "outputs": [
    {
     "data": {
      "text/plain": [
       "[35, 40, 45]"
      ]
     },
     "execution_count": 42,
     "metadata": {},
     "output_type": "execute_result"
    }
   ],
   "source": [
    "lista_s1"
   ]
  },
  {
   "cell_type": "code",
   "execution_count": 43,
   "id": "8ccf6fae",
   "metadata": {},
   "outputs": [],
   "source": [
    "lista_s2 = [20, 50, 60]"
   ]
  },
  {
   "cell_type": "code",
   "execution_count": 44,
   "id": "9f6806a5",
   "metadata": {},
   "outputs": [
    {
     "data": {
      "text/plain": [
       "[20, 50, 60]"
      ]
     },
     "execution_count": 44,
     "metadata": {},
     "output_type": "execute_result"
    }
   ],
   "source": [
    "lista_s2"
   ]
  },
  {
   "cell_type": "code",
   "execution_count": 45,
   "id": "7c53c38c",
   "metadata": {},
   "outputs": [],
   "source": [
    "# Concatenar as listas (sinal de '+' representa a concatenação, e não a soma dos valores das listas)\n",
    "lista_total = lista_s1 + lista_s2"
   ]
  },
  {
   "cell_type": "code",
   "execution_count": 46,
   "id": "c4e153c5",
   "metadata": {},
   "outputs": [
    {
     "data": {
      "text/plain": [
       "[35, 40, 45, 20, 50, 60]"
      ]
     },
     "execution_count": 46,
     "metadata": {},
     "output_type": "execute_result"
    }
   ],
   "source": [
    "lista_total"
   ]
  },
  {
   "cell_type": "markdown",
   "id": "57468780",
   "metadata": {},
   "source": [
    "### Operador In"
   ]
  },
  {
   "cell_type": "code",
   "execution_count": 47,
   "id": "f1c9acf6",
   "metadata": {},
   "outputs": [],
   "source": [
    "# Criar uma lista\n",
    "lista_teste_op = [100, 2, -5, 3.4]"
   ]
  },
  {
   "cell_type": "code",
   "execution_count": 48,
   "id": "e01b641a",
   "metadata": {},
   "outputs": [
    {
     "name": "stdout",
     "output_type": "stream",
     "text": [
      "False\n"
     ]
    }
   ],
   "source": [
    "# Verificar se o valor específico pertence à lista\n",
    "print(10 in lista_teste_op)"
   ]
  },
  {
   "cell_type": "code",
   "execution_count": 49,
   "id": "de1e6917",
   "metadata": {},
   "outputs": [
    {
     "name": "stdout",
     "output_type": "stream",
     "text": [
      "True\n"
     ]
    }
   ],
   "source": [
    "# Verificar se o valor específico pertence à lista\n",
    "print(2 in lista_teste_op)"
   ]
  },
  {
   "cell_type": "markdown",
   "id": "0b686a37",
   "metadata": {},
   "source": [
    "### Funções Built-In de Listas"
   ]
  },
  {
   "cell_type": "code",
   "execution_count": 50,
   "id": "b53faeeb",
   "metadata": {},
   "outputs": [],
   "source": [
    "# Criar uma lista\n",
    "lista_numeros = [10, 20, 30, 50]"
   ]
  },
  {
   "cell_type": "code",
   "execution_count": 51,
   "id": "f6780649",
   "metadata": {},
   "outputs": [
    {
     "data": {
      "text/plain": [
       "4"
      ]
     },
     "execution_count": 51,
     "metadata": {},
     "output_type": "execute_result"
    }
   ],
   "source": [
    "# Len - Retorna o comprimento da lista\n",
    "len(lista_numeros)"
   ]
  },
  {
   "cell_type": "code",
   "execution_count": 52,
   "id": "59ca5795",
   "metadata": {},
   "outputs": [
    {
     "data": {
      "text/plain": [
       "50"
      ]
     },
     "execution_count": 52,
     "metadata": {},
     "output_type": "execute_result"
    }
   ],
   "source": [
    "# Max - Retorna o maior valor da lista\n",
    "max(lista_numeros)"
   ]
  },
  {
   "cell_type": "code",
   "execution_count": 53,
   "id": "7c19f10d",
   "metadata": {},
   "outputs": [
    {
     "data": {
      "text/plain": [
       "10"
      ]
     },
     "execution_count": 53,
     "metadata": {},
     "output_type": "execute_result"
    }
   ],
   "source": [
    "# Min - Retorna o menor valor da lista\n",
    "min(lista_numeros)"
   ]
  },
  {
   "cell_type": "code",
   "execution_count": 54,
   "id": "301fa113",
   "metadata": {},
   "outputs": [],
   "source": [
    "# Criar uma outra lista\n",
    "lista_data_science = ['Analista de Dados', 'Cientista de Dados', 'Engenheiro de Dados']"
   ]
  },
  {
   "cell_type": "code",
   "execution_count": 55,
   "id": "35a3aa0f",
   "metadata": {},
   "outputs": [
    {
     "data": {
      "text/plain": [
       "['Analista de Dados',\n",
       " 'Cientista de Dados',\n",
       " 'Engenheiro de Dados',\n",
       " 'Arquiteto de Dados']"
      ]
     },
     "execution_count": 55,
     "metadata": {},
     "output_type": "execute_result"
    }
   ],
   "source": [
    "# Append - Adiciona um item à lista\n",
    "lista_data_science.append('Arquiteto de Dados')\n",
    "lista_data_science"
   ]
  },
  {
   "cell_type": "code",
   "execution_count": 56,
   "id": "ab516fac",
   "metadata": {},
   "outputs": [
    {
     "data": {
      "text/plain": [
       "['Analista de Dados',\n",
       " 'Cientista de Dados',\n",
       " 'Engenheiro de Dados',\n",
       " 'Arquiteto de Dados',\n",
       " 'Engenheiro de IA']"
      ]
     },
     "execution_count": 56,
     "metadata": {},
     "output_type": "execute_result"
    }
   ],
   "source": [
    "lista_data_science.append('Engenheiro de IA')\n",
    "lista_data_science"
   ]
  },
  {
   "cell_type": "code",
   "execution_count": 57,
   "id": "a7be5b9b",
   "metadata": {},
   "outputs": [
    {
     "name": "stdout",
     "output_type": "stream",
     "text": [
      "[]\n"
     ]
    }
   ],
   "source": [
    "# Criar uma lista vazia\n",
    "a = []\n",
    "print(a)"
   ]
  },
  {
   "cell_type": "code",
   "execution_count": 58,
   "id": "66e7ab4e",
   "metadata": {},
   "outputs": [
    {
     "data": {
      "text/plain": [
       "list"
      ]
     },
     "execution_count": 58,
     "metadata": {},
     "output_type": "execute_result"
    }
   ],
   "source": [
    "type(a)"
   ]
  },
  {
   "cell_type": "code",
   "execution_count": 59,
   "id": "dec91d5b",
   "metadata": {},
   "outputs": [],
   "source": [
    "# Adicionar um item à lista\n",
    "a.append(10)"
   ]
  },
  {
   "cell_type": "code",
   "execution_count": 60,
   "id": "ceda10e7",
   "metadata": {},
   "outputs": [
    {
     "data": {
      "text/plain": [
       "[10]"
      ]
     },
     "execution_count": 60,
     "metadata": {},
     "output_type": "execute_result"
    }
   ],
   "source": [
    "a"
   ]
  },
  {
   "cell_type": "code",
   "execution_count": 61,
   "id": "15d989e3",
   "metadata": {},
   "outputs": [],
   "source": [
    "old_list = [1, 2, 5, 10]"
   ]
  },
  {
   "cell_type": "code",
   "execution_count": 62,
   "id": "9149d07e",
   "metadata": {},
   "outputs": [],
   "source": [
    "new_list = []"
   ]
  },
  {
   "cell_type": "code",
   "execution_count": 63,
   "id": "1a4a9709",
   "metadata": {},
   "outputs": [],
   "source": [
    "# Copiar os itens de uma lista para outra\n",
    "for item in old_list:\n",
    "    new_list.append(item)"
   ]
  },
  {
   "cell_type": "code",
   "execution_count": 64,
   "id": "1afae761",
   "metadata": {},
   "outputs": [
    {
     "data": {
      "text/plain": [
       "[1, 2, 5, 10]"
      ]
     },
     "execution_count": 64,
     "metadata": {},
     "output_type": "execute_result"
    }
   ],
   "source": [
    "new_list"
   ]
  },
  {
   "cell_type": "code",
   "execution_count": 65,
   "id": "5ab413c7",
   "metadata": {},
   "outputs": [],
   "source": [
    "# Criar uma lista de cidades\n",
    "cidades = ['Belo Horizonte', 'São Paulo', 'Palmas']"
   ]
  },
  {
   "cell_type": "code",
   "execution_count": 66,
   "id": "c36710fb",
   "metadata": {},
   "outputs": [
    {
     "name": "stdout",
     "output_type": "stream",
     "text": [
      "['Belo Horizonte', 'São Paulo', 'Palmas', 'Fortaleza', 'Manaus']\n"
     ]
    }
   ],
   "source": [
    "# Extend - Adicionar itens à uma lista\n",
    "cidades.extend(['Fortaleza', 'Manaus'])\n",
    "print(cidades)"
   ]
  },
  {
   "cell_type": "code",
   "execution_count": 67,
   "id": "318ae007",
   "metadata": {},
   "outputs": [
    {
     "data": {
      "text/plain": [
       "2"
      ]
     },
     "execution_count": 67,
     "metadata": {},
     "output_type": "execute_result"
    }
   ],
   "source": [
    "# Index - Verificar o index de um item específico de uma lista\n",
    "cidades.index('Palmas')"
   ]
  },
  {
   "cell_type": "code",
   "execution_count": 68,
   "id": "3f766046",
   "metadata": {},
   "outputs": [
    {
     "data": {
      "text/plain": [
       "['Belo Horizonte',\n",
       " 'São Paulo',\n",
       " 'Palmas',\n",
       " 'Rio de Janeiro',\n",
       " 'Fortaleza',\n",
       " 'Manaus']"
      ]
     },
     "execution_count": 68,
     "metadata": {},
     "output_type": "execute_result"
    }
   ],
   "source": [
    "# Insert - Adiciona um item à lista posicionando em um índice específico\n",
    "cidades.insert(3, 'Rio de Janeiro')\n",
    "cidades"
   ]
  },
  {
   "cell_type": "code",
   "execution_count": 69,
   "id": "e4fbb850",
   "metadata": {},
   "outputs": [
    {
     "data": {
      "text/plain": [
       "['Belo Horizonte', 'São Paulo', 'Palmas', 'Rio de Janeiro', 'Manaus']"
      ]
     },
     "execution_count": 69,
     "metadata": {},
     "output_type": "execute_result"
    }
   ],
   "source": [
    "# Remove - Deleta um item da lista\n",
    "cidades.remove('Fortaleza')\n",
    "cidades"
   ]
  },
  {
   "cell_type": "code",
   "execution_count": 70,
   "id": "d9844791",
   "metadata": {},
   "outputs": [
    {
     "data": {
      "text/plain": [
       "['Manaus', 'Rio de Janeiro', 'Palmas', 'São Paulo', 'Belo Horizonte']"
      ]
     },
     "execution_count": 70,
     "metadata": {},
     "output_type": "execute_result"
    }
   ],
   "source": [
    "# Reverse - Reverte a lista\n",
    "cidades.reverse()\n",
    "cidades"
   ]
  },
  {
   "cell_type": "code",
   "execution_count": 71,
   "id": "31a763ca",
   "metadata": {},
   "outputs": [],
   "source": [
    "# Criar uma lista de números desordenada\n",
    "x = [3, 4, 2, 1]"
   ]
  },
  {
   "cell_type": "code",
   "execution_count": 72,
   "id": "eb42dc19",
   "metadata": {},
   "outputs": [
    {
     "data": {
      "text/plain": [
       "[1, 2, 3, 4]"
      ]
     },
     "execution_count": 72,
     "metadata": {},
     "output_type": "execute_result"
    }
   ],
   "source": [
    "# Sort - Ordena a lista\n",
    "x.sort()\n",
    "x"
   ]
  },
  {
   "cell_type": "markdown",
   "id": "eaea1c17",
   "metadata": {},
   "source": [
    "### Fim"
   ]
  }
 ],
 "metadata": {
  "kernelspec": {
   "display_name": "Python 3 (ipykernel)",
   "language": "python",
   "name": "python3"
  },
  "language_info": {
   "codemirror_mode": {
    "name": "ipython",
    "version": 3
   },
   "file_extension": ".py",
   "mimetype": "text/x-python",
   "name": "python",
   "nbconvert_exporter": "python",
   "pygments_lexer": "ipython3",
   "version": "3.9.13"
  }
 },
 "nbformat": 4,
 "nbformat_minor": 5
}
