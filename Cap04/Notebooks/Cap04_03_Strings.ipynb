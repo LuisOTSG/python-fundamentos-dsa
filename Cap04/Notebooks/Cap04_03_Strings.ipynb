{
 "cells": [
  {
   "cell_type": "markdown",
   "id": "c5700044",
   "metadata": {},
   "source": [
    "## (Cap04) 03 - Strings"
   ]
  },
  {
   "cell_type": "markdown",
   "id": "9d5ef0ef",
   "metadata": {},
   "source": [
    "### Criando um string"
   ]
  },
  {
   "cell_type": "code",
   "execution_count": 1,
   "id": "e3f9e9fc",
   "metadata": {},
   "outputs": [
    {
     "data": {
      "text/plain": [
       "'Olá'"
      ]
     },
     "execution_count": 1,
     "metadata": {},
     "output_type": "execute_result"
    }
   ],
   "source": [
    "# Única palavra\n",
    "'Olá'"
   ]
  },
  {
   "cell_type": "code",
   "execution_count": 2,
   "id": "1e43657b",
   "metadata": {},
   "outputs": [
    {
     "data": {
      "text/plain": [
       "'Criar uma string em Python'"
      ]
     },
     "execution_count": 2,
     "metadata": {},
     "output_type": "execute_result"
    }
   ],
   "source": [
    "# Pode ser usado aspas duplas \"\"\n",
    "\"Criar uma string em Python\""
   ]
  },
  {
   "cell_type": "code",
   "execution_count": 3,
   "id": "48593626",
   "metadata": {},
   "outputs": [
    {
     "data": {
      "text/plain": [
       "\"Criando uma string com aspas duplas e 'simples'\""
      ]
     },
     "execution_count": 3,
     "metadata": {},
     "output_type": "execute_result"
    }
   ],
   "source": [
    "# Combinar aspas duplas com aspas simples\n",
    "\"Criando uma string com aspas duplas e 'simples'\""
   ]
  },
  {
   "cell_type": "markdown",
   "id": "5cd00be4",
   "metadata": {},
   "source": [
    "### Imprimindo um string"
   ]
  },
  {
   "cell_type": "code",
   "execution_count": 4,
   "id": "8cb9892b",
   "metadata": {},
   "outputs": [
    {
     "name": "stdout",
     "output_type": "stream",
     "text": [
      "Criando uma string em Python\n"
     ]
    }
   ],
   "source": [
    "print('Criando uma string em Python')"
   ]
  },
  {
   "cell_type": "code",
   "execution_count": 5,
   "id": "983098b6",
   "metadata": {},
   "outputs": [
    {
     "name": "stdout",
     "output_type": "stream",
     "text": [
      "Quebrando \n",
      "linhas \n",
      "em Python\n"
     ]
    }
   ],
   "source": [
    "print(\"Quebrando \\nlinhas \\nem Python\")"
   ]
  },
  {
   "cell_type": "code",
   "execution_count": 6,
   "id": "5f91c012",
   "metadata": {},
   "outputs": [
    {
     "name": "stdout",
     "output_type": "stream",
     "text": [
      "\n",
      "\n"
     ]
    }
   ],
   "source": [
    "print('\\n')"
   ]
  },
  {
   "cell_type": "markdown",
   "id": "7974c648",
   "metadata": {},
   "source": [
    "### Indexando Strings"
   ]
  },
  {
   "cell_type": "code",
   "execution_count": 7,
   "id": "5aabeda5",
   "metadata": {},
   "outputs": [],
   "source": [
    "# Atribuir uma string\n",
    "a = 'Python Fundamentos'"
   ]
  },
  {
   "cell_type": "code",
   "execution_count": 8,
   "id": "d0105c15",
   "metadata": {},
   "outputs": [
    {
     "name": "stdout",
     "output_type": "stream",
     "text": [
      "Python Fundamentos\n"
     ]
    }
   ],
   "source": [
    "print(a)"
   ]
  },
  {
   "cell_type": "markdown",
   "id": "45fa4deb",
   "metadata": {},
   "source": [
    "> Indexação em Python começa em zero"
   ]
  },
  {
   "cell_type": "code",
   "execution_count": 9,
   "id": "94149a0b",
   "metadata": {},
   "outputs": [
    {
     "data": {
      "text/plain": [
       "'P'"
      ]
     },
     "execution_count": 9,
     "metadata": {},
     "output_type": "execute_result"
    }
   ],
   "source": [
    "# Primeiro elemento da string\n",
    "a[0]"
   ]
  },
  {
   "cell_type": "code",
   "execution_count": 10,
   "id": "6a092584",
   "metadata": {},
   "outputs": [
    {
     "data": {
      "text/plain": [
       "'y'"
      ]
     },
     "execution_count": 10,
     "metadata": {},
     "output_type": "execute_result"
    }
   ],
   "source": [
    "a[1]"
   ]
  },
  {
   "cell_type": "code",
   "execution_count": 11,
   "id": "c117e2b3",
   "metadata": {},
   "outputs": [
    {
     "data": {
      "text/plain": [
       "'t'"
      ]
     },
     "execution_count": 11,
     "metadata": {},
     "output_type": "execute_result"
    }
   ],
   "source": [
    "a[2]"
   ]
  },
  {
   "cell_type": "code",
   "execution_count": 12,
   "id": "c0e7bab3",
   "metadata": {},
   "outputs": [
    {
     "data": {
      "text/plain": [
       "'h'"
      ]
     },
     "execution_count": 12,
     "metadata": {},
     "output_type": "execute_result"
    }
   ],
   "source": [
    "a[3]"
   ]
  },
  {
   "cell_type": "code",
   "execution_count": 13,
   "id": "32cd2eba",
   "metadata": {},
   "outputs": [
    {
     "data": {
      "text/plain": [
       "'o'"
      ]
     },
     "execution_count": 13,
     "metadata": {},
     "output_type": "execute_result"
    }
   ],
   "source": [
    "a[4]"
   ]
  },
  {
   "cell_type": "code",
   "execution_count": 14,
   "id": "6d8b9bfa",
   "metadata": {},
   "outputs": [
    {
     "data": {
      "text/plain": [
       "'n'"
      ]
     },
     "execution_count": 14,
     "metadata": {},
     "output_type": "execute_result"
    }
   ],
   "source": [
    "a[5]"
   ]
  },
  {
   "cell_type": "markdown",
   "id": "8d6fb0a4",
   "metadata": {},
   "source": [
    "### Fatiando Strings (Slicing)"
   ]
  },
  {
   "cell_type": "code",
   "execution_count": 15,
   "id": "ab47ecc9",
   "metadata": {},
   "outputs": [
    {
     "data": {
      "text/plain": [
       "'ython Fundamentos'"
      ]
     },
     "execution_count": 15,
     "metadata": {},
     "output_type": "execute_result"
    }
   ],
   "source": [
    "# Retorna todos os elementos da string, começando pela posição\n",
    "a[1:]"
   ]
  },
  {
   "cell_type": "code",
   "execution_count": 16,
   "id": "95b67284",
   "metadata": {},
   "outputs": [
    {
     "data": {
      "text/plain": [
       "'Python Fundamentos'"
      ]
     },
     "execution_count": 16,
     "metadata": {},
     "output_type": "execute_result"
    }
   ],
   "source": [
    "# A string original permanece inalterada\n",
    "a"
   ]
  },
  {
   "cell_type": "code",
   "execution_count": 19,
   "id": "dc83d761",
   "metadata": {},
   "outputs": [
    {
     "data": {
      "text/plain": [
       "'Pyt'"
      ]
     },
     "execution_count": 19,
     "metadata": {},
     "output_type": "execute_result"
    }
   ],
   "source": [
    "# Retorna até a posição 3 (exclusivo, ou seja, nesse caso indexação começa em 1)\n",
    "a[:3]"
   ]
  },
  {
   "cell_type": "code",
   "execution_count": 18,
   "id": "5b4a66e1",
   "metadata": {},
   "outputs": [
    {
     "data": {
      "text/plain": [
       "'s'"
      ]
     },
     "execution_count": 18,
     "metadata": {},
     "output_type": "execute_result"
    }
   ],
   "source": [
    "# Indexação negativa retorna a string de trás para frente\n",
    "a[-1]"
   ]
  },
  {
   "cell_type": "code",
   "execution_count": 20,
   "id": "906dc29c",
   "metadata": {},
   "outputs": [
    {
     "data": {
      "text/plain": [
       "'Python Fundamento'"
      ]
     },
     "execution_count": 20,
     "metadata": {},
     "output_type": "execute_result"
    }
   ],
   "source": [
    "# Retorna tudo exceto a última letra\n",
    "a[:-1]"
   ]
  },
  {
   "cell_type": "code",
   "execution_count": 21,
   "id": "61e62902",
   "metadata": {},
   "outputs": [
    {
     "data": {
      "text/plain": [
       "'Python Fundamentos'"
      ]
     },
     "execution_count": 21,
     "metadata": {},
     "output_type": "execute_result"
    }
   ],
   "source": [
    "# É possível usar notação de índice e fatiar a string em pedações específicos (o padrão é 1)\n",
    "a[::1]"
   ]
  },
  {
   "cell_type": "code",
   "execution_count": 22,
   "id": "dd048505",
   "metadata": {},
   "outputs": [
    {
     "data": {
      "text/plain": [
       "'Pto udmno'"
      ]
     },
     "execution_count": 22,
     "metadata": {},
     "output_type": "execute_result"
    }
   ],
   "source": [
    "# Saltar de 2 em 2\n",
    "a[::2]"
   ]
  },
  {
   "cell_type": "code",
   "execution_count": 23,
   "id": "a5b949ae",
   "metadata": {},
   "outputs": [
    {
     "data": {
      "text/plain": [
       "'sotnemadnuF nohtyP'"
      ]
     },
     "execution_count": 23,
     "metadata": {},
     "output_type": "execute_result"
    }
   ],
   "source": [
    "# Retornar a string de trás para frente\n",
    "a[::-1]"
   ]
  },
  {
   "cell_type": "markdown",
   "id": "ba214e38",
   "metadata": {},
   "source": [
    "### Propriedades de Strings"
   ]
  },
  {
   "cell_type": "code",
   "execution_count": 24,
   "id": "1948ba4f",
   "metadata": {},
   "outputs": [
    {
     "data": {
      "text/plain": [
       "'Python Fundamentos'"
      ]
     },
     "execution_count": 24,
     "metadata": {},
     "output_type": "execute_result"
    }
   ],
   "source": [
    "a"
   ]
  },
  {
   "cell_type": "code",
   "execution_count": 25,
   "id": "22ff5b23",
   "metadata": {},
   "outputs": [
    {
     "ename": "TypeError",
     "evalue": "'str' object does not support item assignment",
     "output_type": "error",
     "traceback": [
      "\u001b[1;31m---------------------------------------------------------------------------\u001b[0m",
      "\u001b[1;31mTypeError\u001b[0m                                 Traceback (most recent call last)",
      "\u001b[1;32m~\\AppData\\Local\\Temp\\ipykernel_12624\\365993336.py\u001b[0m in \u001b[0;36m<module>\u001b[1;34m\u001b[0m\n\u001b[0;32m      1\u001b[0m \u001b[1;31m# Alterar um caractere não é possível alterar apenas um elemento em uma string (imutável)\u001b[0m\u001b[1;33m\u001b[0m\u001b[1;33m\u001b[0m\u001b[0m\n\u001b[1;32m----> 2\u001b[1;33m \u001b[0ma\u001b[0m\u001b[1;33m[\u001b[0m\u001b[1;36m0\u001b[0m\u001b[1;33m]\u001b[0m \u001b[1;33m=\u001b[0m \u001b[1;34m'X'\u001b[0m\u001b[1;33m\u001b[0m\u001b[1;33m\u001b[0m\u001b[0m\n\u001b[0m",
      "\u001b[1;31mTypeError\u001b[0m: 'str' object does not support item assignment"
     ]
    }
   ],
   "source": [
    "# Alterar um caractere não é possível alterar apenas um elemento em uma string (imutável)\n",
    "a[0] = 'X'"
   ]
  },
  {
   "cell_type": "code",
   "execution_count": 26,
   "id": "fe328336",
   "metadata": {},
   "outputs": [
    {
     "data": {
      "text/plain": [
       "'Python Fundamentos é um curso oferecido pela Data Science Academy.'"
      ]
     },
     "execution_count": 26,
     "metadata": {},
     "output_type": "execute_result"
    }
   ],
   "source": [
    "# Concatenar strings\n",
    "a + ' é um curso oferecido pela Data Science Academy.'"
   ]
  },
  {
   "cell_type": "code",
   "execution_count": 27,
   "id": "e86fb7ed",
   "metadata": {},
   "outputs": [
    {
     "name": "stdout",
     "output_type": "stream",
     "text": [
      "Python Fundamentos é um curso oferecido pela Data Science Academy.\n"
     ]
    }
   ],
   "source": [
    "# Concatenar e atribuir à variável a (substituindo)\n",
    "a = a + ' é um curso oferecido pela Data Science Academy.'\n",
    "print(a)"
   ]
  },
  {
   "cell_type": "code",
   "execution_count": 30,
   "id": "93cb039c",
   "metadata": {},
   "outputs": [],
   "source": [
    "# Criar repetição usando o sinal de multiplicação (*)\n",
    "letra = 'w'"
   ]
  },
  {
   "cell_type": "code",
   "execution_count": 31,
   "id": "086b4010",
   "metadata": {},
   "outputs": [
    {
     "data": {
      "text/plain": [
       "'www'"
      ]
     },
     "execution_count": 31,
     "metadata": {},
     "output_type": "execute_result"
    }
   ],
   "source": [
    "letra * 3"
   ]
  },
  {
   "cell_type": "markdown",
   "id": "fa18b20a",
   "metadata": {},
   "source": [
    "### Funções Built-in de Strings"
   ]
  },
  {
   "cell_type": "code",
   "execution_count": 32,
   "id": "4a15dbc7",
   "metadata": {},
   "outputs": [
    {
     "data": {
      "text/plain": [
       "'Python Fundamentos é um curso oferecido pela Data Science Academy.'"
      ]
     },
     "execution_count": 32,
     "metadata": {},
     "output_type": "execute_result"
    }
   ],
   "source": [
    "a"
   ]
  },
  {
   "cell_type": "code",
   "execution_count": 33,
   "id": "926c2779",
   "metadata": {},
   "outputs": [
    {
     "data": {
      "text/plain": [
       "'PYTHON FUNDAMENTOS É UM CURSO OFERECIDO PELA DATA SCIENCE ACADEMY.'"
      ]
     },
     "execution_count": 33,
     "metadata": {},
     "output_type": "execute_result"
    }
   ],
   "source": [
    "# Uppercase\n",
    "a.upper()"
   ]
  },
  {
   "cell_type": "code",
   "execution_count": 35,
   "id": "9c745a58",
   "metadata": {},
   "outputs": [
    {
     "data": {
      "text/plain": [
       "'python fundamentos é um curso oferecido pela data science academy.'"
      ]
     },
     "execution_count": 35,
     "metadata": {},
     "output_type": "execute_result"
    }
   ],
   "source": [
    "# Lowercase\n",
    "a.lower()"
   ]
  },
  {
   "cell_type": "code",
   "execution_count": 36,
   "id": "d2ec9f0e",
   "metadata": {},
   "outputs": [
    {
     "data": {
      "text/plain": [
       "['Python',\n",
       " 'Fundamentos',\n",
       " 'é',\n",
       " 'um',\n",
       " 'curso',\n",
       " 'oferecido',\n",
       " 'pela',\n",
       " 'Data',\n",
       " 'Science',\n",
       " 'Academy.']"
      ]
     },
     "execution_count": 36,
     "metadata": {},
     "output_type": "execute_result"
    }
   ],
   "source": [
    "# Dividir uma string por espações em branco (padrão)\n",
    "a.split()"
   ]
  },
  {
   "cell_type": "code",
   "execution_count": 37,
   "id": "3bb52e36",
   "metadata": {},
   "outputs": [
    {
     "data": {
      "text/plain": [
       "['P', 'thon Fundamentos é um curso oferecido pela Data Science Academ', '.']"
      ]
     },
     "execution_count": 37,
     "metadata": {},
     "output_type": "execute_result"
    }
   ],
   "source": [
    "# Dividir uma string por um elemento específico\n",
    "a.split('y')"
   ]
  },
  {
   "cell_type": "code",
   "execution_count": 38,
   "id": "e72c186f",
   "metadata": {},
   "outputs": [
    {
     "data": {
      "text/plain": [
       "'Python fundamentos é um curso oferecido pela data science academy.'"
      ]
     },
     "execution_count": 38,
     "metadata": {},
     "output_type": "execute_result"
    }
   ],
   "source": [
    "# Primeira letra da string em maiúscula\n",
    "a.capitalize()"
   ]
  },
  {
   "cell_type": "code",
   "execution_count": 39,
   "id": "81d0c816",
   "metadata": {},
   "outputs": [
    {
     "data": {
      "text/plain": [
       "5"
      ]
     },
     "execution_count": 39,
     "metadata": {},
     "output_type": "execute_result"
    }
   ],
   "source": [
    "# Contar quantidade de caracteres específico\n",
    "a.count('a')"
   ]
  },
  {
   "cell_type": "code",
   "execution_count": 40,
   "id": "ca09d162",
   "metadata": {},
   "outputs": [
    {
     "data": {
      "text/plain": [
       "False"
      ]
     },
     "execution_count": 40,
     "metadata": {},
     "output_type": "execute_result"
    }
   ],
   "source": [
    "# Retorna True ou False se a string é composta somente por números\n",
    "a.isalnum()"
   ]
  },
  {
   "cell_type": "code",
   "execution_count": 41,
   "id": "702c6e37",
   "metadata": {},
   "outputs": [
    {
     "data": {
      "text/plain": [
       "False"
      ]
     },
     "execution_count": 41,
     "metadata": {},
     "output_type": "execute_result"
    }
   ],
   "source": [
    "# Retorna True ou False se a string todos os caracteres estão em minúsculo\n",
    "a.islower()"
   ]
  },
  {
   "cell_type": "code",
   "execution_count": 42,
   "id": "f8430bac",
   "metadata": {},
   "outputs": [
    {
     "data": {
      "text/plain": [
       "False"
      ]
     },
     "execution_count": 42,
     "metadata": {},
     "output_type": "execute_result"
    }
   ],
   "source": [
    "# Retorna True ou False se a string é composta somente por espaços\n",
    "a.isspace()"
   ]
  },
  {
   "cell_type": "code",
   "execution_count": 44,
   "id": "b7c52b36",
   "metadata": {},
   "outputs": [
    {
     "data": {
      "text/plain": [
       "False"
      ]
     },
     "execution_count": 44,
     "metadata": {},
     "output_type": "execute_result"
    }
   ],
   "source": [
    "# Retorna True ou False se a string termina com um caractere específico\n",
    "a.endswith('a')"
   ]
  },
  {
   "cell_type": "markdown",
   "id": "3356c449",
   "metadata": {},
   "source": [
    "### Comparando Strings"
   ]
  },
  {
   "cell_type": "code",
   "execution_count": 45,
   "id": "6037a4e8",
   "metadata": {},
   "outputs": [
    {
     "name": "stdout",
     "output_type": "stream",
     "text": [
      "False\n"
     ]
    }
   ],
   "source": [
    "print('Python' == 'R')"
   ]
  },
  {
   "cell_type": "code",
   "execution_count": 46,
   "id": "e23e05fd",
   "metadata": {},
   "outputs": [
    {
     "name": "stdout",
     "output_type": "stream",
     "text": [
      "True\n"
     ]
    }
   ],
   "source": [
    "print('Python' == 'Python')"
   ]
  },
  {
   "cell_type": "markdown",
   "id": "307bfbfd",
   "metadata": {},
   "source": [
    "### Fim"
   ]
  }
 ],
 "metadata": {
  "kernelspec": {
   "display_name": "Python 3 (ipykernel)",
   "language": "python",
   "name": "python3"
  },
  "language_info": {
   "codemirror_mode": {
    "name": "ipython",
    "version": 3
   },
   "file_extension": ".py",
   "mimetype": "text/x-python",
   "name": "python",
   "nbconvert_exporter": "python",
   "pygments_lexer": "ipython3",
   "version": "3.9.13"
  }
 },
 "nbformat": 4,
 "nbformat_minor": 5
}
