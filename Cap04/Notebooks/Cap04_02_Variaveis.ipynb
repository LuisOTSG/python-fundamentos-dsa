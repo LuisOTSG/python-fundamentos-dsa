{
 "cells": [
  {
   "cell_type": "markdown",
   "id": "7ce14903",
   "metadata": {},
   "source": [
    "## (Cap04) 02 - Variáveis e Operadores"
   ]
  },
  {
   "cell_type": "markdown",
   "id": "f612fe83",
   "metadata": {},
   "source": [
    "### Trabalhando com variáveis"
   ]
  },
  {
   "cell_type": "code",
   "execution_count": 1,
   "id": "3381ec55",
   "metadata": {},
   "outputs": [],
   "source": [
    "# Atribuir o valor 1 à uma variável 'var_teste'\n",
    "var_teste = 1"
   ]
  },
  {
   "cell_type": "code",
   "execution_count": 2,
   "id": "75ec1ff4",
   "metadata": {},
   "outputs": [
    {
     "data": {
      "text/plain": [
       "1"
      ]
     },
     "execution_count": 2,
     "metadata": {},
     "output_type": "execute_result"
    }
   ],
   "source": [
    "# Imprimir o valor da variável\n",
    "var_teste"
   ]
  },
  {
   "cell_type": "code",
   "execution_count": 3,
   "id": "1dbd03bc",
   "metadata": {},
   "outputs": [
    {
     "name": "stdout",
     "output_type": "stream",
     "text": [
      "1\n"
     ]
    }
   ],
   "source": [
    "# Imprimir o valor da variável com função 'print'\n",
    "print(var_teste)"
   ]
  },
  {
   "cell_type": "code",
   "execution_count": 5,
   "id": "08c19936",
   "metadata": {},
   "outputs": [
    {
     "name": "stdout",
     "output_type": "stream",
     "text": [
      "2\n"
     ]
    }
   ],
   "source": [
    "# Atribuir outro valor a mesma variável 'var_teste'\n",
    "var_teste = 2\n",
    "print(var_teste)"
   ]
  },
  {
   "cell_type": "code",
   "execution_count": 6,
   "id": "14533522",
   "metadata": {},
   "outputs": [
    {
     "data": {
      "text/plain": [
       "int"
      ]
     },
     "execution_count": 6,
     "metadata": {},
     "output_type": "execute_result"
    }
   ],
   "source": [
    "type(var_teste)"
   ]
  },
  {
   "cell_type": "code",
   "execution_count": 8,
   "id": "bb408270",
   "metadata": {},
   "outputs": [
    {
     "name": "stdout",
     "output_type": "stream",
     "text": [
      "2.0\n"
     ]
    }
   ],
   "source": [
    "# Atribuir o valor à variável 'var_teste' com outro tipo de dado\n",
    "var_teste = 2.0\n",
    "print(var_teste)"
   ]
  },
  {
   "cell_type": "code",
   "execution_count": 9,
   "id": "0a0f3b0d",
   "metadata": {},
   "outputs": [
    {
     "data": {
      "text/plain": [
       "float"
      ]
     },
     "execution_count": 9,
     "metadata": {},
     "output_type": "execute_result"
    }
   ],
   "source": [
    "type(var_teste)"
   ]
  },
  {
   "cell_type": "code",
   "execution_count": 10,
   "id": "14787722",
   "metadata": {},
   "outputs": [
    {
     "data": {
      "text/plain": [
       "1"
      ]
     },
     "execution_count": 10,
     "metadata": {},
     "output_type": "execute_result"
    }
   ],
   "source": [
    "x = 1\n",
    "x"
   ]
  },
  {
   "cell_type": "markdown",
   "id": "2235481e",
   "metadata": {},
   "source": [
    "### Declaração Múltipla"
   ]
  },
  {
   "cell_type": "code",
   "execution_count": 11,
   "id": "c00c48da",
   "metadata": {},
   "outputs": [],
   "source": [
    "nome1, nome2, nome3 = 'Luis', 'João', 'Pedro'"
   ]
  },
  {
   "cell_type": "code",
   "execution_count": 12,
   "id": "309efd19",
   "metadata": {},
   "outputs": [
    {
     "data": {
      "text/plain": [
       "'Luis'"
      ]
     },
     "execution_count": 12,
     "metadata": {},
     "output_type": "execute_result"
    }
   ],
   "source": [
    "nome1"
   ]
  },
  {
   "cell_type": "code",
   "execution_count": 13,
   "id": "316f6d4e",
   "metadata": {},
   "outputs": [
    {
     "data": {
      "text/plain": [
       "'João'"
      ]
     },
     "execution_count": 13,
     "metadata": {},
     "output_type": "execute_result"
    }
   ],
   "source": [
    "nome2"
   ]
  },
  {
   "cell_type": "code",
   "execution_count": 14,
   "id": "aec7d5a3",
   "metadata": {},
   "outputs": [
    {
     "data": {
      "text/plain": [
       "'Pedro'"
      ]
     },
     "execution_count": 14,
     "metadata": {},
     "output_type": "execute_result"
    }
   ],
   "source": [
    "nome3"
   ]
  },
  {
   "cell_type": "code",
   "execution_count": 15,
   "id": "52baa921",
   "metadata": {},
   "outputs": [],
   "source": [
    "fruta1 = fruta2 = fruta3 = 'Banana'"
   ]
  },
  {
   "cell_type": "code",
   "execution_count": 17,
   "id": "c2d5e3de",
   "metadata": {},
   "outputs": [
    {
     "data": {
      "text/plain": [
       "'Banana'"
      ]
     },
     "execution_count": 17,
     "metadata": {},
     "output_type": "execute_result"
    }
   ],
   "source": [
    "fruta1"
   ]
  },
  {
   "cell_type": "code",
   "execution_count": 18,
   "id": "b9ddc9af",
   "metadata": {},
   "outputs": [
    {
     "data": {
      "text/plain": [
       "'Banana'"
      ]
     },
     "execution_count": 18,
     "metadata": {},
     "output_type": "execute_result"
    }
   ],
   "source": [
    "fruta2"
   ]
  },
  {
   "cell_type": "code",
   "execution_count": 19,
   "id": "f8f24cd7",
   "metadata": {},
   "outputs": [
    {
     "data": {
      "text/plain": [
       "'Banana'"
      ]
     },
     "execution_count": 19,
     "metadata": {},
     "output_type": "execute_result"
    }
   ],
   "source": [
    "fruta3"
   ]
  },
  {
   "cell_type": "markdown",
   "id": "349889bf",
   "metadata": {},
   "source": [
    "> Pode-se usar letras, números e underline em nome de variável (mas não se pode começar com números).\n",
    "\n",
    "> Não se pode usar palavras reservadas como nome de variável"
   ]
  },
  {
   "cell_type": "markdown",
   "id": "e01a52b2",
   "metadata": {},
   "source": [
    "### Variáveis Atribuídas a Outras Variáveis e Ordem dos Operadores"
   ]
  },
  {
   "cell_type": "code",
   "execution_count": 20,
   "id": "6eea0747",
   "metadata": {},
   "outputs": [],
   "source": [
    "largura = 2"
   ]
  },
  {
   "cell_type": "code",
   "execution_count": 21,
   "id": "1aef6550",
   "metadata": {},
   "outputs": [],
   "source": [
    "altura = 4"
   ]
  },
  {
   "cell_type": "code",
   "execution_count": 22,
   "id": "898e8562",
   "metadata": {},
   "outputs": [
    {
     "data": {
      "text/plain": [
       "8"
      ]
     },
     "execution_count": 22,
     "metadata": {},
     "output_type": "execute_result"
    }
   ],
   "source": [
    "area = largura * altura\n",
    "area"
   ]
  },
  {
   "cell_type": "code",
   "execution_count": 23,
   "id": "56946de6",
   "metadata": {},
   "outputs": [
    {
     "data": {
      "text/plain": [
       "12"
      ]
     },
     "execution_count": 23,
     "metadata": {},
     "output_type": "execute_result"
    }
   ],
   "source": [
    "perimetro = 2 * largura + 2 * altura\n",
    "perimetro"
   ]
  },
  {
   "cell_type": "markdown",
   "id": "14b6b39d",
   "metadata": {},
   "source": [
    "### Operações com Variáveis"
   ]
  },
  {
   "cell_type": "code",
   "execution_count": 24,
   "id": "857a0f9b",
   "metadata": {},
   "outputs": [],
   "source": [
    "idade1 = 35"
   ]
  },
  {
   "cell_type": "code",
   "execution_count": 25,
   "id": "8c1ec942",
   "metadata": {},
   "outputs": [],
   "source": [
    "idade2 = 25"
   ]
  },
  {
   "cell_type": "code",
   "execution_count": 26,
   "id": "e322aee5",
   "metadata": {},
   "outputs": [
    {
     "data": {
      "text/plain": [
       "60"
      ]
     },
     "execution_count": 26,
     "metadata": {},
     "output_type": "execute_result"
    }
   ],
   "source": [
    "idade1 + idade2"
   ]
  },
  {
   "cell_type": "code",
   "execution_count": 27,
   "id": "6a15a105",
   "metadata": {},
   "outputs": [
    {
     "data": {
      "text/plain": [
       "10"
      ]
     },
     "execution_count": 27,
     "metadata": {},
     "output_type": "execute_result"
    }
   ],
   "source": [
    "idade1 - idade2"
   ]
  },
  {
   "cell_type": "code",
   "execution_count": 28,
   "id": "6e032430",
   "metadata": {},
   "outputs": [
    {
     "data": {
      "text/plain": [
       "875"
      ]
     },
     "execution_count": 28,
     "metadata": {},
     "output_type": "execute_result"
    }
   ],
   "source": [
    "idade1 * idade2"
   ]
  },
  {
   "cell_type": "code",
   "execution_count": 29,
   "id": "03e31cd4",
   "metadata": {},
   "outputs": [
    {
     "data": {
      "text/plain": [
       "1.4"
      ]
     },
     "execution_count": 29,
     "metadata": {},
     "output_type": "execute_result"
    }
   ],
   "source": [
    "idade1 / idade2"
   ]
  },
  {
   "cell_type": "code",
   "execution_count": 30,
   "id": "9fddef6d",
   "metadata": {},
   "outputs": [
    {
     "data": {
      "text/plain": [
       "10"
      ]
     },
     "execution_count": 30,
     "metadata": {},
     "output_type": "execute_result"
    }
   ],
   "source": [
    "idade1 % idade2"
   ]
  },
  {
   "cell_type": "markdown",
   "id": "9e0ae0b8",
   "metadata": {},
   "source": [
    "### Concatenação de Variáveis"
   ]
  },
  {
   "cell_type": "code",
   "execution_count": 31,
   "id": "9ad54e35",
   "metadata": {},
   "outputs": [],
   "source": [
    "nome = 'Luis'"
   ]
  },
  {
   "cell_type": "code",
   "execution_count": 32,
   "id": "e4c86225",
   "metadata": {},
   "outputs": [],
   "source": [
    "sobrenome = 'Gomes'"
   ]
  },
  {
   "cell_type": "code",
   "execution_count": 33,
   "id": "1addb2f2",
   "metadata": {},
   "outputs": [],
   "source": [
    "fullName = nome + \" \" + sobrenome"
   ]
  },
  {
   "cell_type": "code",
   "execution_count": 34,
   "id": "317337e1",
   "metadata": {},
   "outputs": [
    {
     "data": {
      "text/plain": [
       "'Luis Gomes'"
      ]
     },
     "execution_count": 34,
     "metadata": {},
     "output_type": "execute_result"
    }
   ],
   "source": [
    "fullName"
   ]
  },
  {
   "cell_type": "markdown",
   "id": "bc08ab5f",
   "metadata": {},
   "source": [
    "### Fim"
   ]
  }
 ],
 "metadata": {
  "kernelspec": {
   "display_name": "Python 3 (ipykernel)",
   "language": "python",
   "name": "python3"
  },
  "language_info": {
   "codemirror_mode": {
    "name": "ipython",
    "version": 3
   },
   "file_extension": ".py",
   "mimetype": "text/x-python",
   "name": "python",
   "nbconvert_exporter": "python",
   "pygments_lexer": "ipython3",
   "version": "3.9.13"
  }
 },
 "nbformat": 4,
 "nbformat_minor": 5
}
