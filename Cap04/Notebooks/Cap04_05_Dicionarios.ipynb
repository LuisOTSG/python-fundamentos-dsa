{
 "cells": [
  {
   "cell_type": "markdown",
   "id": "040396eb",
   "metadata": {},
   "source": [
    "## (Cap04) 05 - Dicionários"
   ]
  },
  {
   "cell_type": "markdown",
   "id": "d0e59dc0",
   "metadata": {},
   "source": [
    "### Trabalhando com Dicionários"
   ]
  },
  {
   "cell_type": "code",
   "execution_count": 1,
   "id": "304d4cf6",
   "metadata": {},
   "outputs": [],
   "source": [
    "# Isso é uma lista\n",
    "estudantes_list = ['Flávia', 24, 'Ana', 22, 'Lucas', 26, 'Robson', '25']"
   ]
  },
  {
   "cell_type": "code",
   "execution_count": 4,
   "id": "f713467b",
   "metadata": {},
   "outputs": [
    {
     "data": {
      "text/plain": [
       "['Flávia', 24, 'Ana', 22, 'Lucas', 26, 'Robson', '25']"
      ]
     },
     "execution_count": 4,
     "metadata": {},
     "output_type": "execute_result"
    }
   ],
   "source": [
    "# Imprimir a lista\n",
    "estudantes_list"
   ]
  },
  {
   "cell_type": "code",
   "execution_count": 5,
   "id": "4f33b275",
   "metadata": {},
   "outputs": [
    {
     "data": {
      "text/plain": [
       "list"
      ]
     },
     "execution_count": 5,
     "metadata": {},
     "output_type": "execute_result"
    }
   ],
   "source": [
    "# Verificar tipo\n",
    "type(estudantes_list)"
   ]
  },
  {
   "cell_type": "code",
   "execution_count": 7,
   "id": "1eb19fd8",
   "metadata": {},
   "outputs": [],
   "source": [
    "# Isso é um dicionário (é caracterizado por '{}' e dois elementos chave:valor)\n",
    "estudantes_dict = {'Flávia': 24, 'Ana': 22, 'Lucas': 26, 'Robson': 25}"
   ]
  },
  {
   "cell_type": "code",
   "execution_count": 8,
   "id": "c201ba86",
   "metadata": {},
   "outputs": [
    {
     "data": {
      "text/plain": [
       "{'Flávia': 24, 'Ana': 22, 'Lucas': 26, 'Robson': 25}"
      ]
     },
     "execution_count": 8,
     "metadata": {},
     "output_type": "execute_result"
    }
   ],
   "source": [
    "# Imprimir o dicionário\n",
    "estudantes_dict"
   ]
  },
  {
   "cell_type": "code",
   "execution_count": 9,
   "id": "df5eaa29",
   "metadata": {},
   "outputs": [
    {
     "data": {
      "text/plain": [
       "dict"
      ]
     },
     "execution_count": 9,
     "metadata": {},
     "output_type": "execute_result"
    }
   ],
   "source": [
    "# Verificar tipo\n",
    "type(estudantes_dict)"
   ]
  },
  {
   "cell_type": "code",
   "execution_count": 10,
   "id": "8abfff8b",
   "metadata": {},
   "outputs": [
    {
     "data": {
      "text/plain": [
       "26"
      ]
     },
     "execution_count": 10,
     "metadata": {},
     "output_type": "execute_result"
    }
   ],
   "source": [
    "# Retorna o valor associado a chave\n",
    "estudantes_dict['Lucas']"
   ]
  },
  {
   "cell_type": "code",
   "execution_count": 11,
   "id": "58418c1b",
   "metadata": {},
   "outputs": [],
   "source": [
    "# Atribuir uma nova chave e seu respectivo valor, mesmo não existindo o elemento chave:valor\n",
    "estudantes_dict['Marcelo'] = 23"
   ]
  },
  {
   "cell_type": "code",
   "execution_count": 12,
   "id": "891eb17a",
   "metadata": {},
   "outputs": [
    {
     "data": {
      "text/plain": [
       "23"
      ]
     },
     "execution_count": 12,
     "metadata": {},
     "output_type": "execute_result"
    }
   ],
   "source": [
    "estudantes_dict['Marcelo']"
   ]
  },
  {
   "cell_type": "code",
   "execution_count": 13,
   "id": "14b10c54",
   "metadata": {},
   "outputs": [],
   "source": [
    "# Clear - Limpar os elementos do dicionário\n",
    "estudantes_dict.clear()"
   ]
  },
  {
   "cell_type": "code",
   "execution_count": 14,
   "id": "f1483bf7",
   "metadata": {},
   "outputs": [
    {
     "data": {
      "text/plain": [
       "{}"
      ]
     },
     "execution_count": 14,
     "metadata": {},
     "output_type": "execute_result"
    }
   ],
   "source": [
    "# Imprimir o dicionário limpo/vazio\n",
    "estudantes_dict"
   ]
  },
  {
   "cell_type": "code",
   "execution_count": 15,
   "id": "77c0926d",
   "metadata": {},
   "outputs": [],
   "source": [
    "# Del - Deletar um dicionário\n",
    "del estudantes_dict"
   ]
  },
  {
   "cell_type": "code",
   "execution_count": 16,
   "id": "f4bd481f",
   "metadata": {},
   "outputs": [
    {
     "ename": "NameError",
     "evalue": "name 'estudantes_dict' is not defined",
     "output_type": "error",
     "traceback": [
      "\u001b[1;31m---------------------------------------------------------------------------\u001b[0m",
      "\u001b[1;31mNameError\u001b[0m                                 Traceback (most recent call last)",
      "\u001b[1;32m~\\AppData\\Local\\Temp\\ipykernel_11016\\3026590903.py\u001b[0m in \u001b[0;36m<module>\u001b[1;34m\u001b[0m\n\u001b[0;32m      1\u001b[0m \u001b[1;31m# Não existe mais o dicionpario, por isso retornará erro\u001b[0m\u001b[1;33m\u001b[0m\u001b[1;33m\u001b[0m\u001b[0m\n\u001b[1;32m----> 2\u001b[1;33m \u001b[0mestudantes_dict\u001b[0m\u001b[1;33m\u001b[0m\u001b[1;33m\u001b[0m\u001b[0m\n\u001b[0m",
      "\u001b[1;31mNameError\u001b[0m: name 'estudantes_dict' is not defined"
     ]
    }
   ],
   "source": [
    "# Não existe mais o dicionpario, por isso retornará erro\n",
    "estudantes_dict"
   ]
  },
  {
   "cell_type": "code",
   "execution_count": 22,
   "id": "c27d7aec",
   "metadata": {},
   "outputs": [],
   "source": [
    "# Criar um dicionário\n",
    "estudantes = {'Flávia': 24, 'Ana': 22, 'Lucas': 26, 'Robson': 25}"
   ]
  },
  {
   "cell_type": "code",
   "execution_count": 23,
   "id": "dea339cd",
   "metadata": {},
   "outputs": [
    {
     "data": {
      "text/plain": [
       "4"
      ]
     },
     "execution_count": 23,
     "metadata": {},
     "output_type": "execute_result"
    }
   ],
   "source": [
    "# Len - Verificar comprimento do dicionário (retornará a quantidade de elementos par chave:valor)\n",
    "len(estudantes)"
   ]
  },
  {
   "cell_type": "code",
   "execution_count": 25,
   "id": "f15cdfa9",
   "metadata": {},
   "outputs": [
    {
     "data": {
      "text/plain": [
       "dict_keys(['Flávia', 'Ana', 'Lucas', 'Robson'])"
      ]
     },
     "execution_count": 25,
     "metadata": {},
     "output_type": "execute_result"
    }
   ],
   "source": [
    "# Keys - Retorna apenas os elementos chave\n",
    "estudantes.keys()"
   ]
  },
  {
   "cell_type": "code",
   "execution_count": 26,
   "id": "a484ccba",
   "metadata": {},
   "outputs": [
    {
     "data": {
      "text/plain": [
       "dict_values([24, 22, 26, 25])"
      ]
     },
     "execution_count": 26,
     "metadata": {},
     "output_type": "execute_result"
    }
   ],
   "source": [
    "# Values - Retorna apenas os elementos valor\n",
    "estudantes.values()"
   ]
  },
  {
   "cell_type": "code",
   "execution_count": 27,
   "id": "ecf6bac7",
   "metadata": {},
   "outputs": [
    {
     "data": {
      "text/plain": [
       "dict_items([('Flávia', 24), ('Ana', 22), ('Lucas', 26), ('Robson', 25)])"
      ]
     },
     "execution_count": 27,
     "metadata": {},
     "output_type": "execute_result"
    }
   ],
   "source": [
    "# Items - Retorna os pares\n",
    "estudantes.items()"
   ]
  },
  {
   "cell_type": "code",
   "execution_count": 28,
   "id": "e88d3940",
   "metadata": {},
   "outputs": [],
   "source": [
    "# Criar outro dicionário\n",
    "estudantes2 = {'Camila': 28, 'Adriana': 30, 'Pedro': 25}"
   ]
  },
  {
   "cell_type": "code",
   "execution_count": 29,
   "id": "aa757a8f",
   "metadata": {},
   "outputs": [
    {
     "data": {
      "text/plain": [
       "{'Camila': 28, 'Adriana': 30, 'Pedro': 25}"
      ]
     },
     "execution_count": 29,
     "metadata": {},
     "output_type": "execute_result"
    }
   ],
   "source": [
    "# Imprimir a segunda lista criada\n",
    "estudantes2"
   ]
  },
  {
   "cell_type": "code",
   "execution_count": 30,
   "id": "bac01873",
   "metadata": {},
   "outputs": [],
   "source": [
    "# Update - Atualizar a lista com os valores-pares de outra lista\n",
    "estudantes.update(estudantes2)"
   ]
  },
  {
   "cell_type": "code",
   "execution_count": 31,
   "id": "fde9d9a2",
   "metadata": {},
   "outputs": [
    {
     "data": {
      "text/plain": [
       "{'Flávia': 24,\n",
       " 'Ana': 22,\n",
       " 'Lucas': 26,\n",
       " 'Robson': 25,\n",
       " 'Camila': 28,\n",
       " 'Adriana': 30,\n",
       " 'Pedro': 25}"
      ]
     },
     "execution_count": 31,
     "metadata": {},
     "output_type": "execute_result"
    }
   ],
   "source": [
    "# Imprimir o novo dicionário\n",
    "estudantes"
   ]
  },
  {
   "cell_type": "code",
   "execution_count": 32,
   "id": "52daf0ca",
   "metadata": {},
   "outputs": [],
   "source": [
    "# Criar dicionário vazio\n",
    "dict = {}"
   ]
  },
  {
   "cell_type": "code",
   "execution_count": 34,
   "id": "c38a4042",
   "metadata": {},
   "outputs": [
    {
     "data": {
      "text/plain": [
       "{}"
      ]
     },
     "execution_count": 34,
     "metadata": {},
     "output_type": "execute_result"
    }
   ],
   "source": [
    "# Imprimir o dicionário vazio\n",
    "dict"
   ]
  },
  {
   "cell_type": "code",
   "execution_count": 35,
   "id": "4f29d31b",
   "metadata": {},
   "outputs": [],
   "source": [
    "# Criar um par chave e atribuir um valor, com tipos diferentes das chaves e dos valores (não recomendado)\n",
    "dict['chave_1'] = 2"
   ]
  },
  {
   "cell_type": "code",
   "execution_count": 37,
   "id": "b263f0cd",
   "metadata": {},
   "outputs": [
    {
     "name": "stdout",
     "output_type": "stream",
     "text": [
      "{'chave_1': 2}\n"
     ]
    }
   ],
   "source": [
    "print(dict)"
   ]
  },
  {
   "cell_type": "code",
   "execution_count": 38,
   "id": "216d7eaf",
   "metadata": {},
   "outputs": [],
   "source": [
    "dict[10] = 5"
   ]
  },
  {
   "cell_type": "code",
   "execution_count": 39,
   "id": "105e00d9",
   "metadata": {},
   "outputs": [
    {
     "data": {
      "text/plain": [
       "{'chave_1': 2, 10: 5}"
      ]
     },
     "execution_count": 39,
     "metadata": {},
     "output_type": "execute_result"
    }
   ],
   "source": [
    "dict"
   ]
  },
  {
   "cell_type": "code",
   "execution_count": 40,
   "id": "ac53faef",
   "metadata": {},
   "outputs": [],
   "source": [
    "dict[9.13] = 'Python'"
   ]
  },
  {
   "cell_type": "code",
   "execution_count": 41,
   "id": "76d88e2a",
   "metadata": {},
   "outputs": [
    {
     "data": {
      "text/plain": [
       "{'chave_1': 2, 10: 5, 9.13: 'Python'}"
      ]
     },
     "execution_count": 41,
     "metadata": {},
     "output_type": "execute_result"
    }
   ],
   "source": [
    "dict"
   ]
  },
  {
   "cell_type": "code",
   "execution_count": 42,
   "id": "b91814ea",
   "metadata": {},
   "outputs": [],
   "source": [
    "dict['teste'] = 5    "
   ]
  },
  {
   "cell_type": "code",
   "execution_count": 43,
   "id": "098b0a0d",
   "metadata": {},
   "outputs": [
    {
     "data": {
      "text/plain": [
       "{'chave_1': 2, 10: 5, 9.13: 'Python', 'teste': 5}"
      ]
     },
     "execution_count": 43,
     "metadata": {},
     "output_type": "execute_result"
    }
   ],
   "source": [
    "dict"
   ]
  },
  {
   "cell_type": "code",
   "execution_count": 44,
   "id": "d6c930ad",
   "metadata": {},
   "outputs": [],
   "source": [
    "dict1 = {}"
   ]
  },
  {
   "cell_type": "code",
   "execution_count": 45,
   "id": "834b5c12",
   "metadata": {},
   "outputs": [
    {
     "data": {
      "text/plain": [
       "{}"
      ]
     },
     "execution_count": 45,
     "metadata": {},
     "output_type": "execute_result"
    }
   ],
   "source": [
    "dict1"
   ]
  },
  {
   "cell_type": "code",
   "execution_count": 46,
   "id": "b826c2b7",
   "metadata": {},
   "outputs": [],
   "source": [
    "dict1['teste'] = 10"
   ]
  },
  {
   "cell_type": "code",
   "execution_count": 47,
   "id": "d931487f",
   "metadata": {},
   "outputs": [],
   "source": [
    "dict1['key'] = 'teste'"
   ]
  },
  {
   "cell_type": "code",
   "execution_count": 48,
   "id": "500d69be",
   "metadata": {},
   "outputs": [
    {
     "data": {
      "text/plain": [
       "{'teste': 10, 'key': 'teste'}"
      ]
     },
     "execution_count": 48,
     "metadata": {},
     "output_type": "execute_result"
    }
   ],
   "source": [
    "# Retorna a mesma string 'teste', mas em uma ela representa a chave, e em outra representa o valor (não recomendado)\n",
    "dict1"
   ]
  },
  {
   "cell_type": "code",
   "execution_count": 49,
   "id": "5f26acec",
   "metadata": {},
   "outputs": [],
   "source": [
    "dict2 = {}"
   ]
  },
  {
   "cell_type": "code",
   "execution_count": 50,
   "id": "c26259fc",
   "metadata": {},
   "outputs": [
    {
     "data": {
      "text/plain": [
       "{}"
      ]
     },
     "execution_count": 50,
     "metadata": {},
     "output_type": "execute_result"
    }
   ],
   "source": [
    "dict2"
   ]
  },
  {
   "cell_type": "code",
   "execution_count": 51,
   "id": "00fa78b1",
   "metadata": {},
   "outputs": [],
   "source": [
    "dict2['key1'] = 'Data Science'"
   ]
  },
  {
   "cell_type": "code",
   "execution_count": 52,
   "id": "993eb1ce",
   "metadata": {},
   "outputs": [],
   "source": [
    "dict2['key2'] = 10"
   ]
  },
  {
   "cell_type": "code",
   "execution_count": 53,
   "id": "0cde2605",
   "metadata": {},
   "outputs": [],
   "source": [
    "dict2['key3'] = 500"
   ]
  },
  {
   "cell_type": "code",
   "execution_count": 54,
   "id": "04dca2cd",
   "metadata": {},
   "outputs": [
    {
     "data": {
      "text/plain": [
       "{'key1': 'Data Science', 'key2': 10, 'key3': 500}"
      ]
     },
     "execution_count": 54,
     "metadata": {},
     "output_type": "execute_result"
    }
   ],
   "source": [
    "dict2"
   ]
  },
  {
   "cell_type": "code",
   "execution_count": 55,
   "id": "1ee046da",
   "metadata": {},
   "outputs": [],
   "source": [
    "# Extrair o valor da chave e atribuir à uma variável\n",
    "a = dict2['key1']"
   ]
  },
  {
   "cell_type": "code",
   "execution_count": 56,
   "id": "ef2f1afc",
   "metadata": {},
   "outputs": [],
   "source": [
    "b = dict2['key2']"
   ]
  },
  {
   "cell_type": "code",
   "execution_count": 57,
   "id": "0e1f0609",
   "metadata": {},
   "outputs": [],
   "source": [
    "c = dict2['key3']"
   ]
  },
  {
   "cell_type": "code",
   "execution_count": 58,
   "id": "8c590496",
   "metadata": {},
   "outputs": [
    {
     "data": {
      "text/plain": [
       "('Data Science', 10, 500)"
      ]
     },
     "execution_count": 58,
     "metadata": {},
     "output_type": "execute_result"
    }
   ],
   "source": [
    "a, b, c"
   ]
  },
  {
   "cell_type": "code",
   "execution_count": 59,
   "id": "eda14c92",
   "metadata": {},
   "outputs": [],
   "source": [
    "# Dicionário de listas\n",
    "dict3 = {'chave1': 1250, 'chave2': [2, 20, 40.5], 'chave3': ['picanha', 'hamburguer', 'batata']}"
   ]
  },
  {
   "cell_type": "code",
   "execution_count": 60,
   "id": "a97dcc8c",
   "metadata": {},
   "outputs": [
    {
     "data": {
      "text/plain": [
       "{'chave1': 1250,\n",
       " 'chave2': [2, 20, 40.5],\n",
       " 'chave3': ['picanha', 'hamburguer', 'batata']}"
      ]
     },
     "execution_count": 60,
     "metadata": {},
     "output_type": "execute_result"
    }
   ],
   "source": [
    "dict3"
   ]
  },
  {
   "cell_type": "code",
   "execution_count": 61,
   "id": "c121a7a3",
   "metadata": {},
   "outputs": [
    {
     "data": {
      "text/plain": [
       "[2, 20, 40.5]"
      ]
     },
     "execution_count": 61,
     "metadata": {},
     "output_type": "execute_result"
    }
   ],
   "source": [
    "# Retornar o valor de uma chave do dicionário\n",
    "dict3['chave2']"
   ]
  },
  {
   "cell_type": "code",
   "execution_count": 62,
   "id": "602deee3",
   "metadata": {},
   "outputs": [
    {
     "data": {
      "text/plain": [
       "'PICANHA'"
      ]
     },
     "execution_count": 62,
     "metadata": {},
     "output_type": "execute_result"
    }
   ],
   "source": [
    "# Acessar um item da lista contida no dicionário a partir de seu índice\n",
    "dict3['chave3'][0].upper()"
   ]
  },
  {
   "cell_type": "code",
   "execution_count": 65,
   "id": "be3064f5",
   "metadata": {},
   "outputs": [],
   "source": [
    "# Operações com itens da lista contida no dicionário\n",
    "var1 = dict3['chave2'][1] - 10"
   ]
  },
  {
   "cell_type": "code",
   "execution_count": 66,
   "id": "5a2a3c56",
   "metadata": {},
   "outputs": [
    {
     "data": {
      "text/plain": [
       "10"
      ]
     },
     "execution_count": 66,
     "metadata": {},
     "output_type": "execute_result"
    }
   ],
   "source": [
    "var1"
   ]
  },
  {
   "cell_type": "code",
   "execution_count": 67,
   "id": "09720394",
   "metadata": {},
   "outputs": [],
   "source": [
    "# Para atualizar um item dentro de uma lista, utilizar duas operações no mesmo comando\n",
    "dict3['chave2'][0] -= 2"
   ]
  },
  {
   "cell_type": "code",
   "execution_count": 68,
   "id": "fae8c435",
   "metadata": {},
   "outputs": [
    {
     "data": {
      "text/plain": [
       "{'chave1': 1250,\n",
       " 'chave2': [0, 20, 40.5],\n",
       " 'chave3': ['picanha', 'hamburguer', 'batata']}"
      ]
     },
     "execution_count": 68,
     "metadata": {},
     "output_type": "execute_result"
    }
   ],
   "source": [
    "dict3"
   ]
  },
  {
   "cell_type": "markdown",
   "id": "02f02000",
   "metadata": {},
   "source": [
    "### Criando dicionparios aninhados"
   ]
  },
  {
   "cell_type": "code",
   "execution_count": 69,
   "id": "7ef9344f",
   "metadata": {},
   "outputs": [],
   "source": [
    "# Criar dicionários aninhados\n",
    "dict_aninhado = {'key': {'key2_aninhada': {'key3_aninhada': 'Dict aninhado em Python'}}}"
   ]
  },
  {
   "cell_type": "code",
   "execution_count": 70,
   "id": "60e13e81",
   "metadata": {},
   "outputs": [
    {
     "data": {
      "text/plain": [
       "{'key': {'key2_aninhada': {'key3_aninhada': 'Dict aninhado em Python'}}}"
      ]
     },
     "execution_count": 70,
     "metadata": {},
     "output_type": "execute_result"
    }
   ],
   "source": [
    "dict_aninhado"
   ]
  },
  {
   "cell_type": "code",
   "execution_count": 72,
   "id": "833ef695",
   "metadata": {},
   "outputs": [
    {
     "data": {
      "text/plain": [
       "'Dict aninhado em Python'"
      ]
     },
     "execution_count": 72,
     "metadata": {},
     "output_type": "execute_result"
    }
   ],
   "source": [
    "dict_aninhado['key']['key2_aninhada']['key3_aninhada']"
   ]
  },
  {
   "cell_type": "markdown",
   "id": "5a050016",
   "metadata": {},
   "source": [
    "### Fim"
   ]
  }
 ],
 "metadata": {
  "kernelspec": {
   "display_name": "Python 3 (ipykernel)",
   "language": "python",
   "name": "python3"
  },
  "language_info": {
   "codemirror_mode": {
    "name": "ipython",
    "version": 3
   },
   "file_extension": ".py",
   "mimetype": "text/x-python",
   "name": "python",
   "nbconvert_exporter": "python",
   "pygments_lexer": "ipython3",
   "version": "3.9.13"
  }
 },
 "nbformat": 4,
 "nbformat_minor": 5
}
